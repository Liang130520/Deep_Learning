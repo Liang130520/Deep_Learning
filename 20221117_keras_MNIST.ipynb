{
  "nbformat": 4,
  "nbformat_minor": 0,
  "metadata": {
    "colab": {
      "provenance": [],
      "include_colab_link": true
    },
    "kernelspec": {
      "display_name": "Python 3",
      "language": "python",
      "name": "python3"
    },
    "language_info": {
      "codemirror_mode": {
        "name": "ipython",
        "version": 3
      },
      "file_extension": ".py",
      "mimetype": "text/x-python",
      "name": "python",
      "nbconvert_exporter": "python",
      "pygments_lexer": "ipython3",
      "version": "3.6.4"
    },
    "accelerator": "GPU",
    "gpuClass": "standard"
  },
  "cells": [
    {
      "cell_type": "markdown",
      "metadata": {
        "id": "view-in-github",
        "colab_type": "text"
      },
      "source": [
        "<a href=\"https://colab.research.google.com/github/Liang130520/Deep_Learning/blob/main/00_keras_basic_MNIST.ipynb\" target=\"_parent\"><img src=\"https://colab.research.google.com/assets/colab-badge.svg\" alt=\"Open In Colab\"/></a>"
      ]
    },
    {
      "cell_type": "code",
      "source": [
        "# 了解被分配到的 GPU 及 RAM 性能\n",
        "!nvidia-smi"
      ],
      "metadata": {
        "id": "Jcl4M_xerCst",
        "outputId": "9c3d0cf9-8b8a-4f23-9364-e40ad975e948",
        "colab": {
          "base_uri": "https://localhost:8080/"
        }
      },
      "execution_count": 70,
      "outputs": [
        {
          "output_type": "stream",
          "name": "stdout",
          "text": [
            "Thu Nov 17 06:21:28 2022       \n",
            "+-----------------------------------------------------------------------------+\n",
            "| NVIDIA-SMI 460.32.03    Driver Version: 460.32.03    CUDA Version: 11.2     |\n",
            "|-------------------------------+----------------------+----------------------+\n",
            "| GPU  Name        Persistence-M| Bus-Id        Disp.A | Volatile Uncorr. ECC |\n",
            "| Fan  Temp  Perf  Pwr:Usage/Cap|         Memory-Usage | GPU-Util  Compute M. |\n",
            "|                               |                      |               MIG M. |\n",
            "|===============================+======================+======================|\n",
            "|   0  Tesla T4            Off  | 00000000:00:04.0 Off |                    0 |\n",
            "| N/A   50C    P0    26W /  70W |    996MiB / 15109MiB |      0%      Default |\n",
            "|                               |                      |                  N/A |\n",
            "+-------------------------------+----------------------+----------------------+\n",
            "                                                                               \n",
            "+-----------------------------------------------------------------------------+\n",
            "| Processes:                                                                  |\n",
            "|  GPU   GI   CI        PID   Type   Process name                  GPU Memory |\n",
            "|        ID   ID                                                   Usage      |\n",
            "|=============================================================================|\n",
            "+-----------------------------------------------------------------------------+\n"
          ]
        }
      ]
    },
    {
      "cell_type": "code",
      "metadata": {
        "id": "7JqIcnWvwMpc"
      },
      "source": [
        "import tensorflow as tf\n",
        "from tensorflow.keras import datasets, models, layers, utils, activations, losses, optimizers, metrics\n",
        "\n",
        "import numpy as np\n",
        "import matplotlib.pyplot as plt"
      ],
      "execution_count": 71,
      "outputs": []
    },
    {
      "cell_type": "code",
      "metadata": {
        "id": "4LsiyFhmR_2N",
        "colab": {
          "base_uri": "https://localhost:8080/",
          "height": 36
        },
        "outputId": "a577ae58-63b3-4eac-9af5-e8f950a97fd4"
      },
      "source": [
        "tf.__version__"
      ],
      "execution_count": 72,
      "outputs": [
        {
          "output_type": "execute_result",
          "data": {
            "text/plain": [
              "'2.9.2'"
            ],
            "application/vnd.google.colaboratory.intrinsic+json": {
              "type": "string"
            }
          },
          "metadata": {},
          "execution_count": 72
        }
      ]
    },
    {
      "cell_type": "code",
      "metadata": {
        "id": "gDg9Aq-aSCNF"
      },
      "source": [
        "# Define config\n",
        "num_classes = 10\n",
        "img_size = 28"
      ],
      "execution_count": 73,
      "outputs": []
    },
    {
      "cell_type": "markdown",
      "metadata": {
        "id": "WXajqeGESoSn"
      },
      "source": [
        "#### Prepare Data"
      ]
    },
    {
      "cell_type": "code",
      "metadata": {
        "id": "s0PDCZGkwMpi",
        "colab": {
          "base_uri": "https://localhost:8080/"
        },
        "outputId": "e781cbdb-ecf4-4b26-b556-b3c90ecf7e49"
      },
      "source": [
        "# Load Data from Dataset function\n",
        "(x_train, y_train), (x_test, y_test) = datasets.mnist.load_data()\n",
        "\n",
        "# Data shape\n",
        "# x: (number of samples, H, W)\n",
        "x_train.shape, y_train.shape, x_test.shape, y_test.shape"
      ],
      "execution_count": 74,
      "outputs": [
        {
          "output_type": "execute_result",
          "data": {
            "text/plain": [
              "((60000, 28, 28), (60000,), (10000, 28, 28), (10000,))"
            ]
          },
          "metadata": {},
          "execution_count": 74
        }
      ]
    },
    {
      "cell_type": "code",
      "metadata": {
        "id": "PZ0urZRYWMPh",
        "colab": {
          "base_uri": "https://localhost:8080/",
          "height": 283
        },
        "outputId": "139ea141-0adf-4bab-ae24-4d31ce65e24d"
      },
      "source": [
        "# Show image\n",
        "idx = 10\n",
        "plt.imshow(x_test[idx]), y_test[idx]"
      ],
      "execution_count": 75,
      "outputs": [
        {
          "output_type": "execute_result",
          "data": {
            "text/plain": [
              "(<matplotlib.image.AxesImage at 0x7f40aa75cf10>, 0)"
            ]
          },
          "metadata": {},
          "execution_count": 75
        },
        {
          "output_type": "display_data",
          "data": {
            "text/plain": [
              "<Figure size 432x288 with 1 Axes>"
            ],
            "image/png": "[encoded data removed]"
          },
          "metadata": {
            "needs_background": "light"
          }
        }
      ]
    },
    {
      "cell_type": "code",
      "metadata": {
        "id": "YlR0R9onWXTs",
        "colab": {
          "base_uri": "https://localhost:8080/",
          "height": 283
        },
        "outputId": "e5515113-306e-4338-f594-5b770cd1b68a"
      },
      "source": [
        "# Show image with grayscale color map\n",
        "plt.imshow(x_test[idx], cmap=plt.cm.gray)"
      ],
      "execution_count": 76,
      "outputs": [
        {
          "output_type": "execute_result",
          "data": {
            "text/plain": [
              "<matplotlib.image.AxesImage at 0x7f40aa70b5d0>"
            ]
          },
          "metadata": {},
          "execution_count": 76
        },
        {
          "output_type": "display_data",
          "data": {
            "text/plain": [
              "<Figure size 432x288 with 1 Axes>"
            ],
            "image/png": "[encoded data removed]"
          },
          "metadata": {
            "needs_background": "light"
          }
        }
      ]
    },
    {
      "cell_type": "code",
      "metadata": {
        "colab": {
          "base_uri": "https://localhost:8080/"
        },
        "id": "4v1x-ZG4ku18",
        "outputId": "82eec4ba-3db9-4def-8594-5cf12755cb7b"
      },
      "source": [
        "# Raw value of a image\n",
        "img = x_test[idx]\n",
        "print(img.shape, type(img), img.dtype)\n",
        "print(img)"
      ],
      "execution_count": 77,
      "outputs": [
        {
          "output_type": "stream",
          "name": "stdout",
          "text": [
            "(28, 28) <class 'numpy.ndarray'> uint8\n",
            "[[  0   0   0   0   0   0   0   0   0   0   0   0   0   0   0   0   0   0\n",
            "    0   0   0   0   0   0   0   0   0   0]\n",
            " [  0   0   0   0   0   0   0   0   0   0   0   0   0   0   0   0   0   0\n",
            "    0   0   0   0   0   0   0   0   0   0]\n",
            " [  0   0   0   0   0   0   0   0   0   0   0   0   0   0   0   0   0   0\n",
            "    0   0   0   0   0   0   0   0   0   0]\n",
            " [  0   0   0   0   0   0   0   0   0   0   0   0   0   0   0   0   0   0\n",
            "    0   0   0   0   0   0   0   0   0   0]\n",
            " [  0   0   0   0   0   0   0   0   0   0   0  61   3  42 118 193 118 118\n",
            "   61   0   0   0   0   0   0   0   0   0]\n",
            " [  0   0   0   0   0   0   0   0   0  14 179 245 236 242 254 254 254 254\n",
            "  245 235  84   0   0   0   0   0   0   0]\n",
            " [  0   0   0   0   0   0   0   0   0 151 254 254 254 213 192 178 178 180\n",
            "  254 254 241  46   0   0   0   0   0   0]\n",
            " [  0   0   0   0   0   0   0   0  43 235 254 226  64  28  12   0   0   2\n",
            "  128 252 255 173  17   0   0   0   0   0]\n",
            " [  0   0   0   0   0   0   0   0  56 254 253 107   0   0   0   0   0   0\n",
            "    0 134 250 254  75   0   0   0   0   0]\n",
            " [  0   0   0   0   0   0   0   0  63 254 158   0   0   0   0   0   0   0\n",
            "    0   0 221 254 157   0   0   0   0   0]\n",
            " [  0   0   0   0   0   0   0   0 194 254 103   0   0   0   0   0   0   0\n",
            "    0   0 150 254 213   0   0   0   0   0]\n",
            " [  0   0   0   0   0   0   0  34 220 239  58   0   0   0   0   0   0   0\n",
            "    0   0  84 254 213   0   0   0   0   0]\n",
            " [  0   0   0   0   0   0   0 126 254 171   0   0   0   0   0   0   0   0\n",
            "    0   0  84 254 213   0   0   0   0   0]\n",
            " [  0   0   0   0   0   0   0 214 239  60   0   0   0   0   0   0   0   0\n",
            "    0   0  84 254 213   0   0   0   0   0]\n",
            " [  0   0   0   0   0   0   0 214 199   0   0   0   0   0   0   0   0   0\n",
            "    0   0  84 254 213   0   0   0   0   0]\n",
            " [  0   0   0   0   0   0  11 219 199   0   0   0   0   0   0   0   0   0\n",
            "    0   0  84 254 213   0   0   0   0   0]\n",
            " [  0   0   0   0   0   0  98 254 199   0   0   0   0   0   0   0   0   0\n",
            "    0   0 162 254 209   0   0   0   0   0]\n",
            " [  0   0   0   0   0   0  98 254 199   0   0   0   0   0   0   0   0   0\n",
            "    0  51 238 254  75   0   0   0   0   0]\n",
            " [  0   0   0   0   0   0  98 254 199   0   0   0   0   0   0   0   0   0\n",
            "   51 165 254 195   4   0   0   0   0   0]\n",
            " [  0   0   0   0   0   0  66 241 199   0   0   0   0   0   0   0   0   3\n",
            "  167 254 227  55   0   0   0   0   0   0]\n",
            " [  0   0   0   0   0   0   0 214 213  20   0   0   0   0   0  46 152 202\n",
            "  254 254  63   0   0   0   0   0   0   0]\n",
            " [  0   0   0   0   0   0   0 214 254 204 180 180 180 180 180 235 254 254\n",
            "  234 156  10   0   0   0   0   0   0   0]\n",
            " [  0   0   0   0   0   0   0  81 205 254 254 254 254 254 254 254 252 234\n",
            "  120   0   0   0   0   0   0   0   0   0]\n",
            " [  0   0   0   0   0   0   0   0  26 210 254 254 254 254 254 153 104   0\n",
            "    0   0   0   0   0   0   0   0   0   0]\n",
            " [  0   0   0   0   0   0   0   0   0   0   0   0   0   0   0   0   0   0\n",
            "    0   0   0   0   0   0   0   0   0   0]\n",
            " [  0   0   0   0   0   0   0   0   0   0   0   0   0   0   0   0   0   0\n",
            "    0   0   0   0   0   0   0   0   0   0]\n",
            " [  0   0   0   0   0   0   0   0   0   0   0   0   0   0   0   0   0   0\n",
            "    0   0   0   0   0   0   0   0   0   0]\n",
            " [  0   0   0   0   0   0   0   0   0   0   0   0   0   0   0   0   0   0\n",
            "    0   0   0   0   0   0   0   0   0   0]]\n"
          ]
        }
      ]
    },
    {
      "cell_type": "code",
      "metadata": {
        "id": "r5LcWzCeU7oS"
      },
      "source": [
        "# Flatten(reshape) img to a vector\n",
        "x_train = x_train.reshape(x_train.shape[0], -1) # (60000, 784)\n",
        "x_test = x_test.reshape(x_test.shape[0], -1) # (10000, 784)\n",
        "\n",
        "\n",
        "# Image preprocess: normalize from 0~255 to 0.0~1.0\n",
        "x_train = x_train / 255.\n",
        "x_test = x_test / 255.\n"
      ],
      "execution_count": 78,
      "outputs": []
    },
    {
      "cell_type": "code",
      "source": [
        "y_train[:5]"
      ],
      "metadata": {
        "colab": {
          "base_uri": "https://localhost:8080/"
        },
        "id": "iXflToQ8UcUm",
        "outputId": "e9137031-24df-4615-b7c4-df8b2a90024e"
      },
      "execution_count": 79,
      "outputs": [
        {
          "output_type": "execute_result",
          "data": {
            "text/plain": [
              "array([5, 0, 4, 1, 9], dtype=uint8)"
            ]
          },
          "metadata": {},
          "execution_count": 79
        }
      ]
    },
    {
      "cell_type": "code",
      "source": [
        "# one hot encoding\n",
        "y_train = utils.to_categorical(y_train, num_classes) # 0, 1, .. 9 -> [1, ...,0, 0,0,0]\n",
        "y_test = utils.to_categorical(y_test, num_classes)\n",
        "\n",
        "x_train.shape, x_test.shape, y_train.shape, y_test.shape"
      ],
      "metadata": {
        "colab": {
          "base_uri": "https://localhost:8080/"
        },
        "id": "QJQToFZijnUr",
        "outputId": "be6c984a-f102-46a6-e234-f7f96b0ecbe6"
      },
      "execution_count": 80,
      "outputs": [
        {
          "output_type": "execute_result",
          "data": {
            "text/plain": [
              "((60000, 784), (10000, 784), (60000, 10), (10000, 10))"
            ]
          },
          "metadata": {},
          "execution_count": 80
        }
      ]
    },
    {
      "cell_type": "code",
      "metadata": {
        "id": "NCeSgD2ec62v",
        "colab": {
          "base_uri": "https://localhost:8080/"
        },
        "outputId": "34a01314-c875-4a3e-e840-d852a1140261"
      },
      "source": [
        "img = x_train[idx]\n",
        "print('img.shape', img.shape)\n",
        "print('label (one-hot encoding): ', y_train[idx])\n",
        "print('label: ', np.argmax(y_train[idx], axis=-1))\n",
        "print(img)"
      ],
      "execution_count": 81,
      "outputs": [
        {
          "output_type": "stream",
          "name": "stdout",
          "text": [
            "img.shape (784,)\n",
            "label (one-hot encoding):  [0. 0. 0. 1. 0. 0. 0. 0. 0. 0.]\n",
            "label:  3\n",
            "[0.         0.         0.         0.         0.         0.\n",
            " 0.         0.         0.         0.         0.         0.\n",
            " 0.         0.         0.         0.         0.         0.\n",
            " 0.         0.         0.         0.         0.         0.\n",
            " 0.         0.         0.         0.         0.         0.\n",
            " 0.         0.         0.         0.         0.         0.\n",
            " 0.         0.         0.         0.         0.         0.\n",
            " 0.         0.         0.         0.         0.         0.\n",
            " 0.         0.         0.         0.         0.         0.\n",
            " 0.         0.         0.         0.         0.         0.\n",
            " 0.         0.         0.         0.         0.         0.\n",
            " 0.         0.         0.         0.         0.         0.\n",
            " 0.         0.         0.         0.         0.         0.\n",
            " 0.         0.         0.         0.         0.         0.\n",
            " 0.         0.         0.         0.         0.         0.\n",
            " 0.         0.         0.         0.         0.         0.\n",
            " 0.         0.         0.         0.         0.         0.\n",
            " 0.         0.         0.         0.         0.         0.\n",
            " 0.         0.         0.         0.         0.         0.\n",
            " 0.         0.         0.         0.         0.         0.\n",
            " 0.         0.         0.         0.16470588 0.4627451  0.85882353\n",
            " 0.65098039 0.4627451  0.4627451  0.02352941 0.         0.\n",
            " 0.         0.         0.         0.         0.         0.\n",
            " 0.         0.         0.         0.         0.         0.\n",
            " 0.         0.         0.         0.         0.         0.\n",
            " 0.40392157 0.94901961 0.99607843 0.99607843 0.99607843 0.99607843\n",
            " 0.99607843 0.25882353 0.         0.         0.         0.\n",
            " 0.         0.         0.         0.         0.         0.\n",
            " 0.         0.         0.         0.         0.         0.\n",
            " 0.         0.         0.         0.         0.07058824 0.90980392\n",
            " 0.99607843 0.99607843 0.99607843 0.99607843 0.99607843 0.93333333\n",
            " 0.2745098  0.         0.         0.         0.         0.\n",
            " 0.         0.         0.         0.         0.         0.\n",
            " 0.         0.         0.         0.         0.         0.\n",
            " 0.         0.         0.         0.40784314 0.95686275 0.99607843\n",
            " 0.87843137 0.99607843 0.99607843 0.99607843 0.55294118 0.\n",
            " 0.         0.         0.         0.         0.         0.\n",
            " 0.         0.         0.         0.         0.         0.\n",
            " 0.         0.         0.         0.         0.         0.\n",
            " 0.         0.         0.81176471 0.99607843 0.82352941 0.99607843\n",
            " 0.99607843 0.99607843 0.13333333 0.         0.         0.\n",
            " 0.         0.         0.         0.         0.         0.\n",
            " 0.         0.         0.         0.         0.         0.\n",
            " 0.         0.         0.         0.         0.         0.\n",
            " 0.32941176 0.80784314 0.99607843 0.99607843 0.99607843 0.99607843\n",
            " 0.16078431 0.         0.         0.         0.         0.\n",
            " 0.         0.         0.         0.         0.         0.\n",
            " 0.         0.         0.         0.         0.         0.\n",
            " 0.         0.         0.         0.         0.         0.09411765\n",
            " 0.81960784 0.99607843 0.99607843 0.99607843 0.67058824 0.\n",
            " 0.         0.         0.         0.         0.         0.\n",
            " 0.         0.         0.         0.         0.         0.\n",
            " 0.         0.         0.         0.         0.         0.\n",
            " 0.         0.         0.35686275 0.5372549  0.99215686 0.99607843\n",
            " 0.99607843 0.99607843 0.43921569 0.         0.         0.\n",
            " 0.         0.         0.         0.         0.         0.\n",
            " 0.         0.         0.         0.         0.         0.\n",
            " 0.         0.         0.         0.         0.15686275 0.83921569\n",
            " 0.98039216 0.99607843 0.99607843 0.99607843 0.99607843 0.99607843\n",
            " 0.13333333 0.         0.         0.         0.         0.\n",
            " 0.         0.         0.         0.         0.         0.\n",
            " 0.         0.         0.         0.         0.         0.\n",
            " 0.         0.         0.31764706 0.96862745 0.99607843 0.99607843\n",
            " 0.99607843 0.99607843 0.99607843 0.99607843 0.57254902 0.\n",
            " 0.         0.         0.         0.         0.         0.\n",
            " 0.         0.         0.         0.         0.         0.\n",
            " 0.         0.         0.         0.         0.         0.\n",
            " 0.         0.43137255 0.96470588 0.99607843 0.99607843 0.99607843\n",
            " 0.99607843 0.99607843 0.67058824 0.         0.         0.\n",
            " 0.         0.         0.         0.         0.         0.\n",
            " 0.         0.         0.         0.         0.         0.\n",
            " 0.         0.         0.         0.         0.         0.\n",
            " 0.28627451 0.34901961 0.34901961 0.36470588 0.94117647 0.99607843\n",
            " 0.67058824 0.         0.         0.         0.         0.\n",
            " 0.         0.         0.         0.         0.         0.\n",
            " 0.         0.         0.         0.         0.         0.\n",
            " 0.         0.         0.         0.         0.         0.\n",
            " 0.         0.00392157 0.50196078 0.99607843 0.85882353 0.12156863\n",
            " 0.         0.         0.         0.         0.         0.\n",
            " 0.         0.         0.         0.         0.         0.\n",
            " 0.         0.         0.         0.         0.         0.\n",
            " 0.         0.         0.         0.         0.         0.02745098\n",
            " 0.99607843 0.99607843 0.83921569 0.10980392 0.         0.\n",
            " 0.         0.         0.         0.         0.         0.\n",
            " 0.         0.         0.         0.         0.         0.\n",
            " 0.         0.         0.         0.         0.         0.\n",
            " 0.         0.         0.         0.54117647 0.99607843 0.99607843\n",
            " 0.45490196 0.         0.         0.         0.         0.\n",
            " 0.         0.         0.         0.         0.         0.\n",
            " 0.         0.         0.         0.         0.0745098  0.69411765\n",
            " 0.35294118 0.         0.         0.         0.         0.\n",
            " 0.09803922 0.94117647 0.99607843 0.99607843 0.13333333 0.\n",
            " 0.         0.         0.         0.         0.         0.\n",
            " 0.         0.         0.         0.         0.         0.\n",
            " 0.         0.         0.64313725 0.99607843 0.84313725 0.24705882\n",
            " 0.14117647 0.         0.2        0.34901961 0.80784314 0.99607843\n",
            " 0.99607843 0.54509804 0.03137255 0.         0.         0.\n",
            " 0.         0.         0.         0.         0.         0.\n",
            " 0.         0.         0.         0.         0.         0.\n",
            " 0.22352941 0.77254902 0.99607843 0.99607843 0.87058824 0.70588235\n",
            " 0.94509804 0.99607843 0.99607843 0.99215686 0.83529412 0.04313725\n",
            " 0.         0.         0.         0.         0.         0.\n",
            " 0.         0.         0.         0.         0.         0.\n",
            " 0.         0.         0.         0.         0.         0.54901961\n",
            " 0.41176471 0.99607843 0.99607843 0.99607843 0.99607843 0.99607843\n",
            " 0.99607843 0.9254902  0.         0.         0.         0.\n",
            " 0.         0.         0.         0.         0.         0.\n",
            " 0.         0.         0.         0.         0.         0.\n",
            " 0.         0.         0.         0.         0.02745098 0.45882353\n",
            " 0.45882353 0.64705882 0.99607843 0.99607843 0.9372549  0.19607843\n",
            " 0.         0.         0.         0.         0.         0.\n",
            " 0.         0.         0.         0.         0.         0.\n",
            " 0.         0.         0.         0.         0.         0.\n",
            " 0.         0.         0.         0.         0.         0.\n",
            " 0.         0.         0.         0.         0.         0.\n",
            " 0.         0.         0.         0.         0.         0.\n",
            " 0.         0.         0.         0.         0.         0.\n",
            " 0.         0.         0.         0.         0.         0.\n",
            " 0.         0.         0.         0.         0.         0.\n",
            " 0.         0.         0.         0.         0.         0.\n",
            " 0.         0.         0.         0.         0.         0.\n",
            " 0.         0.         0.         0.         0.         0.\n",
            " 0.         0.         0.         0.         0.         0.\n",
            " 0.         0.         0.         0.         0.         0.\n",
            " 0.         0.         0.         0.         0.         0.\n",
            " 0.         0.         0.         0.         0.         0.\n",
            " 0.         0.         0.         0.         0.         0.\n",
            " 0.         0.         0.         0.         0.         0.\n",
            " 0.         0.         0.         0.         0.         0.\n",
            " 0.         0.         0.         0.         0.         0.\n",
            " 0.         0.         0.         0.        ]\n"
          ]
        }
      ]
    },
    {
      "cell_type": "markdown",
      "source": [
        "#### Build Layer"
      ],
      "metadata": {
        "id": "e9q4tvoSlvyr"
      }
    },
    {
      "cell_type": "markdown",
      "source": [
        "#### Tensor 張量"
      ],
      "metadata": {
        "id": "P6R090O1tAvZ"
      }
    },
    {
      "cell_type": "code",
      "source": [
        "inputs = np.random.uniform(0., 1., size=(1, 784)) # shape: (batch size, dims)\n",
        "linear = layers.Dense(20)\n",
        "output = linear(inputs) # forward\n",
        "\n",
        "print(output)"
      ],
      "metadata": {
        "colab": {
          "base_uri": "https://localhost:8080/"
        },
        "id": "miYAw1y6l0EW",
        "outputId": "5cb64255-395c-473d-ba47-6560023160b0"
      },
      "execution_count": 82,
      "outputs": [
        {
          "output_type": "stream",
          "name": "stdout",
          "text": [
            "tf.Tensor(\n",
            "[[ 0.36769378 -0.42318928  0.07727072  1.2135496   0.2577042   0.02420533\n",
            "  -0.85868484 -0.25713688 -0.14730275 -0.8854132   1.1367097  -0.38844302\n",
            "   0.22843817  0.02142701 -1.1701939  -0.30341077 -0.9461932   0.15328217\n",
            "   0.03601623 -1.2026527 ]], shape=(1, 20), dtype=float32)\n"
          ]
        }
      ]
    },
    {
      "cell_type": "markdown",
      "metadata": {
        "id": "8STKvep1eC4v"
      },
      "source": [
        "#### Build Model"
      ]
    },
    {
      "cell_type": "code",
      "metadata": {
        "id": "twIJqpl-wMpl"
      },
      "source": [
        "# Model 1\n",
        "def build_model1():\n",
        "    \n",
        "    # inputs = layers.Input(shape=(img_size*img_size,)) # input shape (784, )\n",
        "    inputs = layers.Input(shape=784) # input shape (784)\n",
        "    x = layers.Dense(units=10, activation='relu')(inputs)\n",
        "    x = layers.Dense(20, activation=activations.relu)(x)\n",
        "    prediction = layers.Dense(num_classes, activation='softmax')(x)\n",
        "    model = models.Model(inputs=inputs, outputs=prediction)\n",
        "\n",
        "    return model"
      ],
      "execution_count": 102,
      "outputs": []
    },
    {
      "cell_type": "code",
      "metadata": {
        "id": "N3n1KLUdwMpn"
      },
      "source": [
        "# Model 2\n",
        "def build_model2():\n",
        "    \n",
        "    model = models.Sequential()\n",
        "    model.add(layers.Dense(units=10, activation='relu', input_shape=(img_size*img_size,)))\n",
        "    model.add(layers.Dense(units=20))\n",
        "    model.add(layers.Activation('relu'))\n",
        "    model.add(layers.Dense(num_classes, activation='softmax'))\n",
        "\n",
        "    return model"
      ],
      "execution_count": 84,
      "outputs": []
    },
    {
      "cell_type": "code",
      "metadata": {
        "id": "STXWqjlRc4Fv"
      },
      "source": [
        "# Model 3\n",
        "def build_model3():\n",
        "    model = models.Sequential([\n",
        "        layers.Dense(units=10, activation='relu', input_shape=(img_size*img_size,)),\n",
        "        layers.Dense(units=20),\n",
        "        layers.Activation('relu'),\n",
        "        layers.Dense(num_classes, activation='softmax')\n",
        "    ])\n",
        "    return model"
      ],
      "execution_count": 85,
      "outputs": []
    },
    {
      "cell_type": "code",
      "metadata": {
        "id": "wivbMuaEwMpp",
        "colab": {
          "base_uri": "https://localhost:8080/"
        },
        "outputId": "98293df9-e9f3-4307-98b5-26e1c3b72aeb"
      },
      "source": [
        "model = build_model1()\n",
        "# model = build_model2()\n",
        "# model = build_model3()\n",
        "\n",
        "model.summary()"
      ],
      "execution_count": 86,
      "outputs": [
        {
          "output_type": "stream",
          "name": "stdout",
          "text": [
            "Model: \"model_2\"\n",
            "_________________________________________________________________\n",
            " Layer (type)                Output Shape              Param #   \n",
            "=================================================================\n",
            " input_3 (InputLayer)        [(None, 784)]             0         \n",
            "                                                                 \n",
            " dense_15 (Dense)            (None, 10)                7850      \n",
            "                                                                 \n",
            " dense_16 (Dense)            (None, 20)                220       \n",
            "                                                                 \n",
            " dense_17 (Dense)            (None, 10)                210       \n",
            "                                                                 \n",
            "=================================================================\n",
            "Total params: 8,280\n",
            "Trainable params: 8,280\n",
            "Non-trainable params: 0\n",
            "_________________________________________________________________\n"
          ]
        }
      ]
    },
    {
      "cell_type": "code",
      "source": [
        "# Model 4: Model subclass\n",
        "class MLP(tf.keras.models.Model):\n",
        "    def __init__(self):\n",
        "        super().__init__()\n",
        "        self.linear_1 = layers.Dense(units=10, activation='relu')\n",
        "        self.linear_2 = layers.Dense(units=20, activation='relu')\n",
        "        self.linear_3 = layers.Dense(units=num_classes, activation='softmax')\n",
        "\n",
        "    def call(self, inputs):\n",
        "        x = self.linear_1(inputs)\n",
        "        x = self.linear_2(x)\n",
        "        return self.linear_3(x)\n",
        "\n",
        "model = MLP()"
      ],
      "metadata": {
        "id": "dEH-FFV_kPxA"
      },
      "execution_count": 87,
      "outputs": []
    },
    {
      "cell_type": "code",
      "source": [
        "inputs = np.random.uniform(0., 1., size=(1, 784)) # shape: (batch size, dims)\n",
        "output = model(inputs) # shape: (batch size, # of class)\n",
        "\n",
        "print(output) # tensorflow.Tensor 張量\n",
        "\n",
        "output_np = output.numpy() # convert tf.Tensor to numpy array\n",
        "\n",
        "output_np"
      ],
      "metadata": {
        "colab": {
          "base_uri": "https://localhost:8080/"
        },
        "id": "aQYxt4nDnfA-",
        "outputId": "9ee1d276-5cdd-4fb0-e091-f2ba2087f0a1"
      },
      "execution_count": 88,
      "outputs": [
        {
          "output_type": "stream",
          "name": "stdout",
          "text": [
            "tf.Tensor(\n",
            "[[0.09923872 0.09656475 0.0679865  0.1509406  0.07097061 0.11712984\n",
            "  0.0849001  0.04524611 0.16604817 0.10097459]], shape=(1, 10), dtype=float32)\n"
          ]
        },
        {
          "output_type": "execute_result",
          "data": {
            "text/plain": [
              "array([[0.09923872, 0.09656475, 0.0679865 , 0.1509406 , 0.07097061,\n",
              "        0.11712984, 0.0849001 , 0.04524611, 0.16604817, 0.10097459]],\n",
              "      dtype=float32)"
            ]
          },
          "metadata": {},
          "execution_count": 88
        }
      ]
    },
    {
      "cell_type": "markdown",
      "metadata": {
        "id": "vtOqbCgkd9PZ"
      },
      "source": [
        "#### Training"
      ]
    },
    {
      "cell_type": "code",
      "metadata": {
        "id": "MsbeskPgeeIh",
        "outputId": "56ac9e5a-7b64-483f-a2ae-c2ca23125d50",
        "colab": {
          "base_uri": "https://localhost:8080/"
        }
      },
      "source": [
        "# Method 1 : training from scratch\n",
        "epochs = 10\n",
        "batch_size = 128\n",
        "# Instantiate an optimizer.\n",
        "optimizer = optimizers.SGD(learning_rate=1e-2)\n",
        "# Instantiate a loss function.\n",
        "loss_fn = losses.CategoricalCrossentropy()\n",
        "\n",
        "# Start training\n",
        "for epoch in range(epochs):\n",
        "    print(f'Epoch: {epoch}')\n",
        "\n",
        "    # Training\n",
        "    for step, idx in enumerate(range(0, len(x_train), batch_size)):\n",
        "        # get x, y data\n",
        "        x_batch = x_train[idx: idx+batch_size]\n",
        "        y_batch = y_train[idx: idx+batch_size]\n",
        "\n",
        "        # compute loss\n",
        "        with tf.GradientTape() as tape:\n",
        "            pred = model(x_batch) # call 的 function\n",
        "            loss_value = loss_fn(y_batch, pred)\n",
        "        # get gradient:計算梯度\n",
        "        grads = tape.gradient(loss_value, model.trainable_weights)\n",
        "        # update model\n",
        "        optimizer.apply_gradients(zip(grads, model.trainable_weights))\n",
        "\n",
        "        if step % 200 == 0:\n",
        "            print(f'step : {step} loss: {loss_value}')\n",
        "    "
      ],
      "execution_count": 89,
      "outputs": [
        {
          "output_type": "stream",
          "name": "stdout",
          "text": [
            "Epoch: 0\n",
            "step : 0 loss: 2.3101139068603516\n",
            "step : 200 loss: 1.7183713912963867\n",
            "step : 400 loss: 1.1709504127502441\n",
            "Epoch: 1\n",
            "step : 0 loss: 1.049494743347168\n",
            "step : 200 loss: 0.727403998374939\n",
            "step : 400 loss: 0.744992733001709\n",
            "Epoch: 2\n",
            "step : 0 loss: 0.6612613201141357\n",
            "step : 200 loss: 0.5205773115158081\n",
            "step : 400 loss: 0.6416330337524414\n",
            "Epoch: 3\n",
            "step : 0 loss: 0.5568712949752808\n",
            "step : 200 loss: 0.4552236795425415\n",
            "step : 400 loss: 0.5886849164962769\n",
            "Epoch: 4\n",
            "step : 0 loss: 0.49122312664985657\n",
            "step : 200 loss: 0.4155155420303345\n",
            "step : 400 loss: 0.5491322875022888\n",
            "Epoch: 5\n",
            "step : 0 loss: 0.43971535563468933\n",
            "step : 200 loss: 0.3894658088684082\n",
            "step : 400 loss: 0.5148085355758667\n",
            "Epoch: 6\n",
            "step : 0 loss: 0.3974685072898865\n",
            "step : 200 loss: 0.36867278814315796\n",
            "step : 400 loss: 0.4848636984825134\n",
            "Epoch: 7\n",
            "step : 0 loss: 0.36248981952667236\n",
            "step : 200 loss: 0.3505670726299286\n",
            "step : 400 loss: 0.45940104126930237\n",
            "Epoch: 8\n",
            "step : 0 loss: 0.3328583240509033\n",
            "step : 200 loss: 0.33478593826293945\n",
            "step : 400 loss: 0.4379868507385254\n",
            "Epoch: 9\n",
            "step : 0 loss: 0.30867424607276917\n",
            "step : 200 loss: 0.32193875312805176\n",
            "step : 400 loss: 0.42064619064331055\n"
          ]
        }
      ]
    },
    {
      "cell_type": "code",
      "metadata": {
        "id": "b64Ju7UnwMps"
      },
      "source": [
        "# Method 2\n",
        "\n",
        "# Setting for training\n",
        "model.compile(loss=losses.categorical_crossentropy, # loss function\n",
        "              # losses.CategoricalCrossentropy(), loss 可替換使用\n",
        "              optimizer=optimizers.SGD(), # optmizer\n",
        "              # 'accuracy'是呈現字串形式, tf.keras.metrics.CategoricalAccuracy()有另外的呈現形式\n",
        "              metrics=['accuracy',\n",
        "                       tf.keras.metrics.CategoricalAccuracy()]\n",
        "              )"
      ],
      "execution_count": 90,
      "outputs": []
    },
    {
      "cell_type": "code",
      "metadata": {
        "id": "EuIgYeCqwMpu",
        "colab": {
          "base_uri": "https://localhost:8080/"
        },
        "outputId": "d2d975c7-2dc4-418e-fa21-e8734340ea37"
      },
      "source": [
        "logs = model.fit(x_train, y_train, # training\n",
        "                 batch_size=10,\n",
        "                 epochs=10,\n",
        "                 validation_data=(x_test, y_test),\n",
        "                 )"
      ],
      "execution_count": 91,
      "outputs": [
        {
          "output_type": "stream",
          "name": "stdout",
          "text": [
            "Epoch 1/10\n",
            "6000/6000 [==============================] - 16s 3ms/step - loss: 0.3313 - accuracy: 0.9035 - categorical_accuracy: 0.9035 - val_loss: 0.2892 - val_accuracy: 0.9151 - val_categorical_accuracy: 0.9151\n",
            "Epoch 2/10\n",
            "6000/6000 [==============================] - 16s 3ms/step - loss: 0.2848 - accuracy: 0.9175 - categorical_accuracy: 0.9175 - val_loss: 0.2683 - val_accuracy: 0.9222 - val_categorical_accuracy: 0.9222\n",
            "Epoch 3/10\n",
            "6000/6000 [==============================] - 16s 3ms/step - loss: 0.2572 - accuracy: 0.9259 - categorical_accuracy: 0.9259 - val_loss: 0.2652 - val_accuracy: 0.9228 - val_categorical_accuracy: 0.9228\n",
            "Epoch 4/10\n",
            "6000/6000 [==============================] - 16s 3ms/step - loss: 0.2380 - accuracy: 0.9304 - categorical_accuracy: 0.9304 - val_loss: 0.2258 - val_accuracy: 0.9345 - val_categorical_accuracy: 0.9345\n",
            "Epoch 5/10\n",
            "6000/6000 [==============================] - 16s 3ms/step - loss: 0.2255 - accuracy: 0.9345 - categorical_accuracy: 0.9345 - val_loss: 0.2162 - val_accuracy: 0.9350 - val_categorical_accuracy: 0.9350\n",
            "Epoch 6/10\n",
            "6000/6000 [==============================] - 15s 3ms/step - loss: 0.2144 - accuracy: 0.9383 - categorical_accuracy: 0.9383 - val_loss: 0.2161 - val_accuracy: 0.9334 - val_categorical_accuracy: 0.9334\n",
            "Epoch 7/10\n",
            "6000/6000 [==============================] - 16s 3ms/step - loss: 0.2066 - accuracy: 0.9390 - categorical_accuracy: 0.9390 - val_loss: 0.2050 - val_accuracy: 0.9398 - val_categorical_accuracy: 0.9398\n",
            "Epoch 8/10\n",
            "6000/6000 [==============================] - 16s 3ms/step - loss: 0.1977 - accuracy: 0.9410 - categorical_accuracy: 0.9410 - val_loss: 0.2017 - val_accuracy: 0.9400 - val_categorical_accuracy: 0.9400\n",
            "Epoch 9/10\n",
            "6000/6000 [==============================] - 16s 3ms/step - loss: 0.1914 - accuracy: 0.9431 - categorical_accuracy: 0.9431 - val_loss: 0.1980 - val_accuracy: 0.9423 - val_categorical_accuracy: 0.9423\n",
            "Epoch 10/10\n",
            "6000/6000 [==============================] - 15s 3ms/step - loss: 0.1857 - accuracy: 0.9447 - categorical_accuracy: 0.9447 - val_loss: 0.2081 - val_accuracy: 0.9385 - val_categorical_accuracy: 0.9385\n"
          ]
        }
      ]
    },
    {
      "cell_type": "code",
      "metadata": {
        "id": "oCwl5cTewMpx",
        "colab": {
          "base_uri": "https://localhost:8080/"
        },
        "outputId": "423e6ac5-5d90-45ea-f5f5-7bf4a71b2059"
      },
      "source": [
        "# Model evaluation on test data\n",
        "score = model.evaluate(x_test, y_test)\n",
        "print(f'test loss: {score[0]}, test acc: {score[1]}')"
      ],
      "execution_count": 92,
      "outputs": [
        {
          "output_type": "stream",
          "name": "stdout",
          "text": [
            "313/313 [==============================] - 1s 2ms/step - loss: 0.2081 - accuracy: 0.9385 - categorical_accuracy: 0.9385\n",
            "test loss: 0.20811256766319275, test acc: 0.9384999871253967\n"
          ]
        }
      ]
    },
    {
      "cell_type": "code",
      "source": [
        "output = model.predict(x_test)\n",
        "output"
      ],
      "metadata": {
        "id": "zawBV2FGWRg1",
        "outputId": "72458334-f071-4f52-adfb-173fd23c8946",
        "colab": {
          "base_uri": "https://localhost:8080/"
        }
      },
      "execution_count": 103,
      "outputs": [
        {
          "output_type": "stream",
          "name": "stdout",
          "text": [
            "313/313 [==============================] - 0s 1ms/step\n"
          ]
        },
        {
          "output_type": "execute_result",
          "data": {
            "text/plain": [
              "array([[2.77343846e-04, 2.32706398e-07, 1.58685644e-03, ...,\n",
              "        9.95910287e-01, 8.94010736e-06, 9.23943153e-05],\n",
              "       [3.74473757e-07, 2.65687413e-06, 9.98610139e-01, ...,\n",
              "        2.02726460e-06, 1.40024542e-06, 2.44218599e-13],\n",
              "       [3.90090063e-05, 9.77870703e-01, 1.26628205e-02, ...,\n",
              "        2.91457376e-03, 1.55897392e-03, 1.96294623e-05],\n",
              "       ...,\n",
              "       [1.18815064e-08, 1.92354534e-07, 2.16874469e-06, ...,\n",
              "        4.69415936e-05, 8.02478055e-04, 8.21767375e-03],\n",
              "       [4.11126675e-05, 1.93268056e-06, 3.63715480e-06, ...,\n",
              "        4.34442349e-08, 6.92030229e-03, 3.17853939e-08],\n",
              "       [7.94938842e-06, 9.65189484e-10, 2.86383965e-05, ...,\n",
              "        1.61055239e-10, 7.92366066e-08, 6.56287114e-08]], dtype=float32)"
            ]
          },
          "metadata": {},
          "execution_count": 103
        }
      ]
    },
    {
      "cell_type": "markdown",
      "source": [
        "#### Prediction\n",
        "\n",
        "model.predict(data):np.array 呈現\n",
        "\n",
        "model(data):tf.Tensor 呈現"
      ],
      "metadata": {
        "id": "GR-FbaE-NVjv"
      }
    },
    {
      "cell_type": "code",
      "metadata": {
        "id": "U_JRuyYTwMpz",
        "colab": {
          "base_uri": "https://localhost:8080/"
        },
        "outputId": "1f6cf620-4d3d-4cac-b7a4-67c892b299da"
      },
      "source": [
        "# Inference: Get model prediction\n",
        "start = 0\n",
        "end = 2\n",
        "# prediction = model.predict(x_test[start:end]) # (batch size, 784, )\n",
        "prediction = model(x_test[start:end]) # (batch size, 784, )\n",
        "print('model prediction: \\n', prediction)\n",
        "print('max probabolity index: \\n', np.argmax(prediction, axis=-1))\n",
        "print('Ground Truth: \\n', y_test[start: end], np.argmax(y_test[start: end], axis=-1))"
      ],
      "execution_count": 93,
      "outputs": [
        {
          "output_type": "stream",
          "name": "stdout",
          "text": [
            "model prediction: \n",
            " tf.Tensor(\n",
            "[[2.7734385e-04 2.3270640e-07 1.5868564e-03 2.0137536e-03 4.5080859e-09\n",
            "  1.1022332e-04 4.0999539e-14 9.9591029e-01 8.9401074e-06 9.2394315e-05]\n",
            " [3.7447302e-07 2.6568741e-06 9.9861014e-01 1.0301119e-03 2.7707222e-14\n",
            "  3.5325115e-04 4.5240881e-08 2.0272685e-06 1.4002427e-06 2.4421811e-13]], shape=(2, 10), dtype=float32)\n",
            "max probabolity index: \n",
            " [7 2]\n",
            "Ground Truth: \n",
            " [[0. 0. 0. 0. 0. 0. 0. 1. 0. 0.]\n",
            " [0. 0. 1. 0. 0. 0. 0. 0. 0. 0.]] [7 2]\n"
          ]
        }
      ]
    },
    {
      "cell_type": "code",
      "source": [
        "prediction.shape"
      ],
      "metadata": {
        "colab": {
          "base_uri": "https://localhost:8080/"
        },
        "id": "G3xPOgFyTHLR",
        "outputId": "7b6eeabc-1243-4e64-ff7e-19eb077f05cc"
      },
      "execution_count": 94,
      "outputs": [
        {
          "output_type": "execute_result",
          "data": {
            "text/plain": [
              "TensorShape([2, 10])"
            ]
          },
          "metadata": {},
          "execution_count": 94
        }
      ]
    },
    {
      "cell_type": "code",
      "source": [
        "plt.imshow(x_test[0].reshape(img_size, img_size))"
      ],
      "metadata": {
        "colab": {
          "base_uri": "https://localhost:8080/",
          "height": 283
        },
        "id": "98K3X1N79fdi",
        "outputId": "2f1816cc-3a03-468e-a451-4f56a2e5acad"
      },
      "execution_count": 95,
      "outputs": [
        {
          "output_type": "execute_result",
          "data": {
            "text/plain": [
              "<matplotlib.image.AxesImage at 0x7f40aa539150>"
            ]
          },
          "metadata": {},
          "execution_count": 95
        },
        {
          "output_type": "display_data",
          "data": {
            "text/plain": [
              "<Figure size 432x288 with 1 Axes>"
            ],
            "image/png": "[encoded data removed]"
          },
          "metadata": {
            "needs_background": "light"
          }
        }
      ]
    },
    {
      "cell_type": "code",
      "metadata": {
        "id": "89NwtdhbwMp2",
        "colab": {
          "base_uri": "https://localhost:8080/"
        },
        "outputId": "9ff8e654-742a-42d5-8550-921fd3d64d3f"
      },
      "source": [
        "history = logs.history\n",
        "history"
      ],
      "execution_count": 96,
      "outputs": [
        {
          "output_type": "execute_result",
          "data": {
            "text/plain": [
              "{'loss': [0.33126893639564514,\n",
              "  0.28480762243270874,\n",
              "  0.25719913840293884,\n",
              "  0.23796571791172028,\n",
              "  0.22550536692142487,\n",
              "  0.2144394814968109,\n",
              "  0.20660138130187988,\n",
              "  0.19769911468029022,\n",
              "  0.1914336085319519,\n",
              "  0.18572407960891724],\n",
              " 'accuracy': [0.9034833312034607,\n",
              "  0.9175333380699158,\n",
              "  0.9258666634559631,\n",
              "  0.9303500056266785,\n",
              "  0.9345166683197021,\n",
              "  0.9383000135421753,\n",
              "  0.9390333294868469,\n",
              "  0.941016674041748,\n",
              "  0.9430999755859375,\n",
              "  0.9446666836738586],\n",
              " 'categorical_accuracy': [0.9034833312034607,\n",
              "  0.9175333380699158,\n",
              "  0.9258666634559631,\n",
              "  0.9303500056266785,\n",
              "  0.9345166683197021,\n",
              "  0.9383000135421753,\n",
              "  0.9390333294868469,\n",
              "  0.941016674041748,\n",
              "  0.9430999755859375,\n",
              "  0.9446666836738586],\n",
              " 'val_loss': [0.2892044484615326,\n",
              "  0.26828980445861816,\n",
              "  0.2651555836200714,\n",
              "  0.22575852274894714,\n",
              "  0.21616266667842865,\n",
              "  0.2160699963569641,\n",
              "  0.20496098697185516,\n",
              "  0.2017306089401245,\n",
              "  0.19800764322280884,\n",
              "  0.20811262726783752],\n",
              " 'val_accuracy': [0.9150999784469604,\n",
              "  0.9222000241279602,\n",
              "  0.9228000044822693,\n",
              "  0.934499979019165,\n",
              "  0.9350000023841858,\n",
              "  0.9333999752998352,\n",
              "  0.9398000240325928,\n",
              "  0.9399999976158142,\n",
              "  0.942300021648407,\n",
              "  0.9384999871253967],\n",
              " 'val_categorical_accuracy': [0.9150999784469604,\n",
              "  0.9222000241279602,\n",
              "  0.9228000044822693,\n",
              "  0.934499979019165,\n",
              "  0.9350000023841858,\n",
              "  0.9333999752998352,\n",
              "  0.9398000240325928,\n",
              "  0.9399999976158142,\n",
              "  0.942300021648407,\n",
              "  0.9384999871253967]}"
            ]
          },
          "metadata": {},
          "execution_count": 96
        }
      ]
    },
    {
      "cell_type": "code",
      "metadata": {
        "id": "ZKDX0rwfwMp5",
        "colab": {
          "base_uri": "https://localhost:8080/",
          "height": 299
        },
        "outputId": "db144d44-be7a-4a62-a6f3-36354fc64427"
      },
      "source": [
        "plt.plot(history['accuracy'])\n",
        "plt.plot(history['val_accuracy'])\n",
        "plt.legend(['accuracy', 'val_accuracy'])\n",
        "plt.title('accuracy')"
      ],
      "execution_count": 97,
      "outputs": [
        {
          "output_type": "execute_result",
          "data": {
            "text/plain": [
              "Text(0.5, 1.0, 'accuracy')"
            ]
          },
          "metadata": {},
          "execution_count": 97
        },
        {
          "output_type": "display_data",
          "data": {
            "text/plain": [
              "<Figure size 432x288 with 1 Axes>"
            ],
            "image/png": "[encoded data removed]"
          },
          "metadata": {
            "needs_background": "light"
          }
        }
      ]
    },
    {
      "cell_type": "code",
      "metadata": {
        "id": "jMyM477lwMp8",
        "colab": {
          "base_uri": "https://localhost:8080/",
          "height": 299
        },
        "outputId": "60bb47b0-04be-48d5-ddc8-f0e79eb50c03"
      },
      "source": [
        "plt.plot(history['loss'])\n",
        "plt.plot(history['val_loss'])\n",
        "plt.legend(['loss', 'val_loss'])\n",
        "plt.title('loss')"
      ],
      "execution_count": 98,
      "outputs": [
        {
          "output_type": "execute_result",
          "data": {
            "text/plain": [
              "Text(0.5, 1.0, 'loss')"
            ]
          },
          "metadata": {},
          "execution_count": 98
        },
        {
          "output_type": "display_data",
          "data": {
            "text/plain": [
              "<Figure size 432x288 with 1 Axes>"
            ],
            "image/png": "[encoded data removed]"
          },
          "metadata": {
            "needs_background": "light"
          }
        }
      ]
    },
    {
      "cell_type": "markdown",
      "source": [
        "### Inference"
      ],
      "metadata": {
        "id": "eifcymSmnGKh"
      }
    },
    {
      "cell_type": "code",
      "source": [
        "prediction = model(x_test[:1])"
      ],
      "metadata": {
        "id": "fgfBsg6QnHva"
      },
      "execution_count": 99,
      "outputs": []
    },
    {
      "cell_type": "code",
      "source": [
        "prediction.numpy()"
      ],
      "metadata": {
        "id": "h1Fv0UlMnSZY",
        "outputId": "06729aa1-b57c-4aac-de05-7281e082ea92",
        "colab": {
          "base_uri": "https://localhost:8080/"
        }
      },
      "execution_count": 100,
      "outputs": [
        {
          "output_type": "execute_result",
          "data": {
            "text/plain": [
              "array([[2.7734358e-04, 2.3270640e-07, 1.5868534e-03, 2.0137536e-03,\n",
              "        4.5080948e-09, 1.1022312e-04, 4.0999695e-14, 9.9591029e-01,\n",
              "        8.9401074e-06, 9.2394490e-05]], dtype=float32)"
            ]
          },
          "metadata": {},
          "execution_count": 100
        }
      ]
    },
    {
      "cell_type": "markdown",
      "metadata": {
        "id": "jHqsJpz4dtuP"
      },
      "source": [
        "#### Save & load model"
      ]
    },
    {
      "cell_type": "code",
      "metadata": {
        "id": "0hzsJPLWwMp_"
      },
      "source": [
        "# Save Whole model:Architecture + Weights + Optimizer\n",
        "model.save('my_model.h5')\n",
        "# Load whole model\n",
        "model2 = tf.keras.models.load_model('my_model.h5')"
      ],
      "execution_count": null,
      "outputs": []
    },
    {
      "cell_type": "code",
      "metadata": {
        "id": "RTvKn3Mfw-Iy"
      },
      "source": [
        "# save and load \"weights\" only\n",
        "model.save_weights('my_model_weights.h5')\n",
        "\n",
        "# Rebuild model before load weights !\n",
        "model = build_model1()\n",
        "\n",
        "model.load_weights('my_model_weights.h5')"
      ],
      "execution_count": null,
      "outputs": []
    },
    {
      "cell_type": "code",
      "metadata": {
        "id": "ikGvw3i2i5ob"
      },
      "source": [],
      "execution_count": null,
      "outputs": []
    }
  ]
}
