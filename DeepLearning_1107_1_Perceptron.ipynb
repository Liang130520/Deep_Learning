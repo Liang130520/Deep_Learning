{
  "nbformat": 4,
  "nbformat_minor": 0,
  "metadata": {
    "colab": {
      "provenance": [],
      "authorship_tag": "ABX9TyM6O+Y797N6/r8qoYyQLJTa",
      "include_colab_link": true
    },
    "kernelspec": {
      "name": "python3",
      "display_name": "Python 3"
    },
    "language_info": {
      "name": "python"
    }
  },
  "cells": [
    {
      "cell_type": "markdown",
      "metadata": {
        "id": "view-in-github",
        "colab_type": "text"
      },
      "source": [
        "<a href=\"https://colab.research.google.com/github/Liang130520/Deep_Learning/blob/main/DeepLearning_1107_1_Perceptron.ipynb\" target=\"_parent\"><img src=\"https://colab.research.google.com/assets/colab-badge.svg\" alt=\"Open In Colab\"/></a>"
      ]
    },
    {
      "cell_type": "code",
      "execution_count": null,
      "metadata": {
        "id": "c3JpEsCOjOOD"
      },
      "outputs": [],
      "source": [
        "\" Machine Learning \" # 處理表格類資料\n",
        "\n",
        "\" 深度學習(Deep Learning) \" # 處理表格以外的資料, 屬 \"模仿\" 人類神經網路的形式\n",
        "# -> 接收端 到 輸出端, 所有係數相加, 再進行轉換輸出, 遵守\"全有全無率\"\n",
        "# --> X1 * W1 + X2 * W2 + ...... ---> WiXi \"激活(Activation)\"\" ----> 輸出, 若無激活, 則無輸出\n",
        "# 意即為 分類器 / 感知器 (Perceptron), 感知有或無的情形\n",
        "\n",
        "\" Perceptron的調整 \"\n",
        "# 為了模擬感受大小的差異, 將一條神經(程式)改成有中間值的概念\n",
        "\n",
        "\" Sigmoid \" # -> Sigmoid => y = 1 / (1 + e ** -x)\n",
        "# 為何要有 (1 +)?  ->  if y = 1 / e ** -x --> y = e ** x\n",
        "# 令 x = 0, 則 y = 1\n",
        "# 令 x = -∞, 則 y ≒ 0\n",
        "# 令 x = ∞, 則 y ≒ ∞\n",
        "# --> y = 1 / (1 + e ** -x), if x = 0, 則 y = 0.5, if x = -∞, 則 y ≒ 0, if x = ∞, 則 y ≒ 1.\n",
        "# ---> (1 +) 為設定天花板用的, if 天花板想設定為 2, 則改為 (0.5 +)即可, 以此類推\n",
        "\n",
        "\" Logistic Regression\" # 仍為分類器, 非回歸, Logistic 等於 Sigmoid\n"
      ]
    }
  ]
}