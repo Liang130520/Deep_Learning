{
  "nbformat": 4,
  "nbformat_minor": 0,
  "metadata": {
    "colab": {
      "provenance": [],
      "authorship_tag": "ABX9TyN/DM2rxXa+XyvGGoujAiLr",
      "include_colab_link": true
    },
    "kernelspec": {
      "name": "python3",
      "display_name": "Python 3"
    },
    "language_info": {
      "name": "python"
    }
  },
  "cells": [
    {
      "cell_type": "markdown",
      "metadata": {
        "id": "view-in-github",
        "colab_type": "text"
      },
      "source": [
        "<a href=\"https://colab.research.google.com/github/Liang130520/Deep_Learning/blob/main/DeepLearning_1114_1_Sobel.ipynb\" target=\"_parent\"><img src=\"https://colab.research.google.com/assets/colab-badge.svg\" alt=\"Open In Colab\"/></a>"
      ]
    },
    {
      "cell_type": "code",
      "execution_count": null,
      "metadata": {
        "id": "92oMQELhs1zU"
      },
      "outputs": [],
      "source": [
        "\" 索伯運算子(Sobel) \"\n",
        "# 在灰階圖中, 抓取所有輪廓, 為區分輪廓色差, 以每個像素附近九宮格納入考量, 下方為橫向顏色變化及縱向顏色變化\n",
        "# 另外因為最左側, 最右側, 最上側, 最下側無法作為中心點計算, 故將有新圖案為(n-2) * (n-2)\n",
        "\n",
        "\" 卷積 \" # 以某 pixel 為中心, 結合附近 pixel 得到數值\n",
        "#    [+1, 0, -1]\n",
        "# Gx:[+2, 0, -2]\n",
        "#    [+1, 0, -1]\n",
        "# ===================\n",
        "#    [+1, +2, +1]\n",
        "# Gy:[ 0,  0,  0]\n",
        "#    [-1, -2, -1]\n",
        "# if 九宮格兩側 \n",
        "#   相互抵消為 0, 即無色差\n",
        "#   無抵銷為 +, 該方向即偏白色\n",
        "#   無抵銷為 -, 該方向即偏白色\n",
        "# 絕對值為強度\n"
      ]
    },
    {
      "cell_type": "code",
      "source": [
        "\" 抓取圖片 \"\n",
        "from urllib.request import urlretrieve\n",
        "url = \"https://upload.wikimedia.org/wikipedia/commons/3/3f/Bikesgray.jpg\"\n",
        "urlretrieve(url, \"test.jpg\")"
      ],
      "metadata": {
        "id": "_EHeed9s8TwE"
      },
      "execution_count": null,
      "outputs": []
    },
    {
      "cell_type": "code",
      "source": [
        "\" 確認圖片樣貌 \"\n",
        "import numpy as np\n",
        "import matplotlib.pyplot as plt\n",
        "from PIL import Image\n",
        "\n",
        "img = Image.open(\"test.jpg\")\n",
        "img_np = np.array(img)\n",
        "plt.imshow(img_np, cmap=\"gray\")"
      ],
      "metadata": {
        "id": "vIMcK8d88Y9T"
      },
      "execution_count": null,
      "outputs": []
    },
    {
      "cell_type": "code",
      "source": [
        "\" X軸變化 \"\n",
        "# Gx\n",
        "shape = img_np.shape\n",
        "img_gx = np.zeros(shape)\n",
        "Gx = [\n",
        "    [1, 0, -1],\n",
        "    [2, 0, -2],\n",
        "    [1, 0, -1]\n",
        "]\n",
        "# 最左側及最右側都無法作為九宮格正中間計算\n",
        "for i in range(1, shape[0]-1):\n",
        "    for j in range(1, shape[1]-1):\n",
        "        # 中心\n",
        "        ci, cj = i, j\n",
        "        newvalue = 0\n",
        "        for addi in [-1, 0, 1]:\n",
        "            for addj in [-1, 0, 1]:\n",
        "                # target\n",
        "                ti, tj = ci+addi, cj+addj\n",
        "                # 為方便理解才用 -1, 0, 1, 為利用Gx內的項目, 採用 0, 1 , 2\n",
        "                newvalue = newvalue + Gx[addi+1][addj+1] * img_np[ti][tj]\n",
        "        img_gx[ci][cj] = abs(newvalue)\n",
        "img_gx"
      ],
      "metadata": {
        "id": "cDUhPnco8dnd"
      },
      "execution_count": null,
      "outputs": []
    },
    {
      "cell_type": "code",
      "source": [
        "\" show 橫向比較差異 \"\n",
        "# 0-255 0.0-1.0 這兩種都可以直接使用matplotlib畫\n",
        "ma, mi = img_gx.max(), img_gx.min()\n",
        "img_gx_scale = (img_gx - mi) / (ma - mi)\n",
        "plt.figure(figsize=(10, 10))\n",
        "plt.imshow(img_gx_scale, cmap=\"gray\")"
      ],
      "metadata": {
        "id": "9BC2DZoFAEfV"
      },
      "execution_count": null,
      "outputs": []
    },
    {
      "cell_type": "code",
      "source": [
        "\" Y軸變化 \"\n",
        "# Gy\n",
        "shape = img_np.shape\n",
        "img_gy = np.zeros(shape)\n",
        "Gy = [\n",
        "    [1, 2, 1],\n",
        "    [0, 0, 0],\n",
        "    [-1, -2, -1]\n",
        "]\n",
        "for i in range(1, shape[0]-1):\n",
        "    for j in range(1, shape[1]-1):\n",
        "        # 中心\n",
        "        ci, cj = i, j\n",
        "        newvalue = 0\n",
        "        for addi in [-1, 0, 1]:\n",
        "            for addj in [-1, 0, 1]:\n",
        "                # target\n",
        "                ti, tj = ci+addi, cj+addj\n",
        "                newvalue = newvalue + Gy[addi+1][addj+1] * img_np[ti][tj]\n",
        "        img_gy[ci][cj] = abs(newvalue)\n",
        "img_gy"
      ],
      "metadata": {
        "id": "PZShNYwi8Et-"
      },
      "execution_count": null,
      "outputs": []
    },
    {
      "cell_type": "code",
      "source": [
        "\" show 縱向比較差異 \"\n",
        "# 0-255 0.0-1.0 這兩種都可以直接使用matplotlib畫\n",
        "ma, mi = img_gy.max(), img_gy.min()\n",
        "img_gy_scale = (img_gy - mi) / (ma - mi)\n",
        "plt.figure(figsize=(10, 10))\n",
        "plt.imshow(img_gy_scale, cmap=\"gray\")"
      ],
      "metadata": {
        "id": "4cRZJqCLFycZ"
      },
      "execution_count": null,
      "outputs": []
    },
    {
      "cell_type": "code",
      "source": [
        "\" X,Y軸整合 \"\n",
        "img_sobel = np.zeros(shape)\n",
        "for i in range(shape[0]):\n",
        "    for j in range(shape[1]):\n",
        "        img_sobel[i][j] = (img_gx[i][j] ** 2 + img_gy[i][j] ** 2) ** 0.5\n",
        "img_sobel"
      ],
      "metadata": {
        "id": "7Ev89DXcF2-e"
      },
      "execution_count": null,
      "outputs": []
    },
    {
      "cell_type": "code",
      "source": [
        "\" show 全圖比較差異 \"\n",
        "# 0-255 0.0-1.0 這兩種都可以直接使用matplotlib畫\n",
        "ma, mi = img_sobel.max(), img_sobel.min()\n",
        "img_sobel_scale = (img_sobel - mi) / (ma - mi)\n",
        "plt.figure(figsize=(10, 10))\n",
        "plt.imshow(img_sobel_scale, cmap=\"gray\")"
      ],
      "metadata": {
        "id": "SUn0mtUNF9tX"
      },
      "execution_count": null,
      "outputs": []
    }
  ]
}