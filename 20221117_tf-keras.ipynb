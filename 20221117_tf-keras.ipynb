{
  "nbformat": 4,
  "nbformat_minor": 0,
  "metadata": {
    "colab": {
      "provenance": [],
      "include_colab_link": true
    },
    "kernelspec": {
      "name": "python3",
      "display_name": "Python 3"
    },
    "accelerator": "GPU",
    "widgets": {
      "application/vnd.jupyter.widget-state+json": {
        "4c7d7156538f4730872fb7f1618166be": {
          "model_module": "@jupyter-widgets/controls",
          "model_name": "HBoxModel",
          "model_module_version": "1.5.0",
          "state": {
            "_dom_classes": [],
            "_model_module": "@jupyter-widgets/controls",
            "_model_module_version": "1.5.0",
            "_model_name": "HBoxModel",
            "_view_count": null,
            "_view_module": "@jupyter-widgets/controls",
            "_view_module_version": "1.5.0",
            "_view_name": "HBoxView",
            "box_style": "",
            "children": [
              "IPY_MODEL_8f6ca70e044d44c5b9d591a20d245e08",
              "IPY_MODEL_4220875f9049400f948774c241de775e",
              "IPY_MODEL_246fb4e7401a4753a74f919033d46af7"
            ],
            "layout": "IPY_MODEL_79a1606cb8dc4af8b613ab2be2b4560a"
          }
        },
        "8f6ca70e044d44c5b9d591a20d245e08": {
          "model_module": "@jupyter-widgets/controls",
          "model_name": "HTMLModel",
          "model_module_version": "1.5.0",
          "state": {
            "_dom_classes": [],
            "_model_module": "@jupyter-widgets/controls",
            "_model_module_version": "1.5.0",
            "_model_name": "HTMLModel",
            "_view_count": null,
            "_view_module": "@jupyter-widgets/controls",
            "_view_module_version": "1.5.0",
            "_view_name": "HTMLView",
            "description": "",
            "description_tooltip": null,
            "layout": "IPY_MODEL_b8ed3345a3904e0da075a0484e03e24f",
            "placeholder": "​",
            "style": "IPY_MODEL_a3f876cfcc274bbd9776765988b208f4",
            "value": "100%"
          }
        },
        "4220875f9049400f948774c241de775e": {
          "model_module": "@jupyter-widgets/controls",
          "model_name": "FloatProgressModel",
          "model_module_version": "1.5.0",
          "state": {
            "_dom_classes": [],
            "_model_module": "@jupyter-widgets/controls",
            "_model_module_version": "1.5.0",
            "_model_name": "FloatProgressModel",
            "_view_count": null,
            "_view_module": "@jupyter-widgets/controls",
            "_view_module_version": "1.5.0",
            "_view_name": "ProgressView",
            "bar_style": "success",
            "description": "",
            "description_tooltip": null,
            "layout": "IPY_MODEL_08d3e5d3576c45a8947ef2b03e93195b",
            "max": 150,
            "min": 0,
            "orientation": "horizontal",
            "style": "IPY_MODEL_89e172637f7144d19ad5a602d864f43e",
            "value": 150
          }
        },
        "246fb4e7401a4753a74f919033d46af7": {
          "model_module": "@jupyter-widgets/controls",
          "model_name": "HTMLModel",
          "model_module_version": "1.5.0",
          "state": {
            "_dom_classes": [],
            "_model_module": "@jupyter-widgets/controls",
            "_model_module_version": "1.5.0",
            "_model_name": "HTMLModel",
            "_view_count": null,
            "_view_module": "@jupyter-widgets/controls",
            "_view_module_version": "1.5.0",
            "_view_name": "HTMLView",
            "description": "",
            "description_tooltip": null,
            "layout": "IPY_MODEL_0d12a1d08ca5479db9a41fe24e133d00",
            "placeholder": "​",
            "style": "IPY_MODEL_d1fa59561aeb447191d9c5f87601aa0c",
            "value": " 150/150 [00:01&lt;00:00, 83.37it/s]"
          }
        },
        "79a1606cb8dc4af8b613ab2be2b4560a": {
          "model_module": "@jupyter-widgets/base",
          "model_name": "LayoutModel",
          "model_module_version": "1.2.0",
          "state": {
            "_model_module": "@jupyter-widgets/base",
            "_model_module_version": "1.2.0",
            "_model_name": "LayoutModel",
            "_view_count": null,
            "_view_module": "@jupyter-widgets/base",
            "_view_module_version": "1.2.0",
            "_view_name": "LayoutView",
            "align_content": null,
            "align_items": null,
            "align_self": null,
            "border": null,
            "bottom": null,
            "display": null,
            "flex": null,
            "flex_flow": null,
            "grid_area": null,
            "grid_auto_columns": null,
            "grid_auto_flow": null,
            "grid_auto_rows": null,
            "grid_column": null,
            "grid_gap": null,
            "grid_row": null,
            "grid_template_areas": null,
            "grid_template_columns": null,
            "grid_template_rows": null,
            "height": null,
            "justify_content": null,
            "justify_items": null,
            "left": null,
            "margin": null,
            "max_height": null,
            "max_width": null,
            "min_height": null,
            "min_width": null,
            "object_fit": null,
            "object_position": null,
            "order": null,
            "overflow": null,
            "overflow_x": null,
            "overflow_y": null,
            "padding": null,
            "right": null,
            "top": null,
            "visibility": null,
            "width": null
          }
        },
        "b8ed3345a3904e0da075a0484e03e24f": {
          "model_module": "@jupyter-widgets/base",
          "model_name": "LayoutModel",
          "model_module_version": "1.2.0",
          "state": {
            "_model_module": "@jupyter-widgets/base",
            "_model_module_version": "1.2.0",
            "_model_name": "LayoutModel",
            "_view_count": null,
            "_view_module": "@jupyter-widgets/base",
            "_view_module_version": "1.2.0",
            "_view_name": "LayoutView",
            "align_content": null,
            "align_items": null,
            "align_self": null,
            "border": null,
            "bottom": null,
            "display": null,
            "flex": null,
            "flex_flow": null,
            "grid_area": null,
            "grid_auto_columns": null,
            "grid_auto_flow": null,
            "grid_auto_rows": null,
            "grid_column": null,
            "grid_gap": null,
            "grid_row": null,
            "grid_template_areas": null,
            "grid_template_columns": null,
            "grid_template_rows": null,
            "height": null,
            "justify_content": null,
            "justify_items": null,
            "left": null,
            "margin": null,
            "max_height": null,
            "max_width": null,
            "min_height": null,
            "min_width": null,
            "object_fit": null,
            "object_position": null,
            "order": null,
            "overflow": null,
            "overflow_x": null,
            "overflow_y": null,
            "padding": null,
            "right": null,
            "top": null,
            "visibility": null,
            "width": null
          }
        },
        "a3f876cfcc274bbd9776765988b208f4": {
          "model_module": "@jupyter-widgets/controls",
          "model_name": "DescriptionStyleModel",
          "model_module_version": "1.5.0",
          "state": {
            "_model_module": "@jupyter-widgets/controls",
            "_model_module_version": "1.5.0",
            "_model_name": "DescriptionStyleModel",
            "_view_count": null,
            "_view_module": "@jupyter-widgets/base",
            "_view_module_version": "1.2.0",
            "_view_name": "StyleView",
            "description_width": ""
          }
        },
        "08d3e5d3576c45a8947ef2b03e93195b": {
          "model_module": "@jupyter-widgets/base",
          "model_name": "LayoutModel",
          "model_module_version": "1.2.0",
          "state": {
            "_model_module": "@jupyter-widgets/base",
            "_model_module_version": "1.2.0",
            "_model_name": "LayoutModel",
            "_view_count": null,
            "_view_module": "@jupyter-widgets/base",
            "_view_module_version": "1.2.0",
            "_view_name": "LayoutView",
            "align_content": null,
            "align_items": null,
            "align_self": null,
            "border": null,
            "bottom": null,
            "display": null,
            "flex": null,
            "flex_flow": null,
            "grid_area": null,
            "grid_auto_columns": null,
            "grid_auto_flow": null,
            "grid_auto_rows": null,
            "grid_column": null,
            "grid_gap": null,
            "grid_row": null,
            "grid_template_areas": null,
            "grid_template_columns": null,
            "grid_template_rows": null,
            "height": null,
            "justify_content": null,
            "justify_items": null,
            "left": null,
            "margin": null,
            "max_height": null,
            "max_width": null,
            "min_height": null,
            "min_width": null,
            "object_fit": null,
            "object_position": null,
            "order": null,
            "overflow": null,
            "overflow_x": null,
            "overflow_y": null,
            "padding": null,
            "right": null,
            "top": null,
            "visibility": null,
            "width": null
          }
        },
        "89e172637f7144d19ad5a602d864f43e": {
          "model_module": "@jupyter-widgets/controls",
          "model_name": "ProgressStyleModel",
          "model_module_version": "1.5.0",
          "state": {
            "_model_module": "@jupyter-widgets/controls",
            "_model_module_version": "1.5.0",
            "_model_name": "ProgressStyleModel",
            "_view_count": null,
            "_view_module": "@jupyter-widgets/base",
            "_view_module_version": "1.2.0",
            "_view_name": "StyleView",
            "bar_color": null,
            "description_width": ""
          }
        },
        "0d12a1d08ca5479db9a41fe24e133d00": {
          "model_module": "@jupyter-widgets/base",
          "model_name": "LayoutModel",
          "model_module_version": "1.2.0",
          "state": {
            "_model_module": "@jupyter-widgets/base",
            "_model_module_version": "1.2.0",
            "_model_name": "LayoutModel",
            "_view_count": null,
            "_view_module": "@jupyter-widgets/base",
            "_view_module_version": "1.2.0",
            "_view_name": "LayoutView",
            "align_content": null,
            "align_items": null,
            "align_self": null,
            "border": null,
            "bottom": null,
            "display": null,
            "flex": null,
            "flex_flow": null,
            "grid_area": null,
            "grid_auto_columns": null,
            "grid_auto_flow": null,
            "grid_auto_rows": null,
            "grid_column": null,
            "grid_gap": null,
            "grid_row": null,
            "grid_template_areas": null,
            "grid_template_columns": null,
            "grid_template_rows": null,
            "height": null,
            "justify_content": null,
            "justify_items": null,
            "left": null,
            "margin": null,
            "max_height": null,
            "max_width": null,
            "min_height": null,
            "min_width": null,
            "object_fit": null,
            "object_position": null,
            "order": null,
            "overflow": null,
            "overflow_x": null,
            "overflow_y": null,
            "padding": null,
            "right": null,
            "top": null,
            "visibility": null,
            "width": null
          }
        },
        "d1fa59561aeb447191d9c5f87601aa0c": {
          "model_module": "@jupyter-widgets/controls",
          "model_name": "DescriptionStyleModel",
          "model_module_version": "1.5.0",
          "state": {
            "_model_module": "@jupyter-widgets/controls",
            "_model_module_version": "1.5.0",
            "_model_name": "DescriptionStyleModel",
            "_view_count": null,
            "_view_module": "@jupyter-widgets/base",
            "_view_module_version": "1.2.0",
            "_view_name": "StyleView",
            "description_width": ""
          }
        },
        "24cbebe339f44442806332a00e00737a": {
          "model_module": "@jupyter-widgets/controls",
          "model_name": "HBoxModel",
          "model_module_version": "1.5.0",
          "state": {
            "_dom_classes": [],
            "_model_module": "@jupyter-widgets/controls",
            "_model_module_version": "1.5.0",
            "_model_name": "HBoxModel",
            "_view_count": null,
            "_view_module": "@jupyter-widgets/controls",
            "_view_module_version": "1.5.0",
            "_view_name": "HBoxView",
            "box_style": "",
            "children": [
              "IPY_MODEL_489d2fd03aea4c6a815de0c63583cc23",
              "IPY_MODEL_d87854248f974d2d84e9e8b40ad9737b",
              "IPY_MODEL_5c04e518d4be4e03ae84d5f04eda5d53"
            ],
            "layout": "IPY_MODEL_d936d7b594b949d79da85095f753273f"
          }
        },
        "489d2fd03aea4c6a815de0c63583cc23": {
          "model_module": "@jupyter-widgets/controls",
          "model_name": "HTMLModel",
          "model_module_version": "1.5.0",
          "state": {
            "_dom_classes": [],
            "_model_module": "@jupyter-widgets/controls",
            "_model_module_version": "1.5.0",
            "_model_name": "HTMLModel",
            "_view_count": null,
            "_view_module": "@jupyter-widgets/controls",
            "_view_module_version": "1.5.0",
            "_view_name": "HTMLView",
            "description": "",
            "description_tooltip": null,
            "layout": "IPY_MODEL_06316f277874483aaf7cd85a354d0824",
            "placeholder": "​",
            "style": "IPY_MODEL_58b34918fbd74cd3b853e64568330c81",
            "value": "100%"
          }
        },
        "d87854248f974d2d84e9e8b40ad9737b": {
          "model_module": "@jupyter-widgets/controls",
          "model_name": "FloatProgressModel",
          "model_module_version": "1.5.0",
          "state": {
            "_dom_classes": [],
            "_model_module": "@jupyter-widgets/controls",
            "_model_module_version": "1.5.0",
            "_model_name": "FloatProgressModel",
            "_view_count": null,
            "_view_module": "@jupyter-widgets/controls",
            "_view_module_version": "1.5.0",
            "_view_name": "ProgressView",
            "bar_style": "success",
            "description": "",
            "description_tooltip": null,
            "layout": "IPY_MODEL_d27091868c854e1bbadc5a54a520bddd",
            "max": 100,
            "min": 0,
            "orientation": "horizontal",
            "style": "IPY_MODEL_33a82a156dd34f029654e873db6f34e2",
            "value": 100
          }
        },
        "5c04e518d4be4e03ae84d5f04eda5d53": {
          "model_module": "@jupyter-widgets/controls",
          "model_name": "HTMLModel",
          "model_module_version": "1.5.0",
          "state": {
            "_dom_classes": [],
            "_model_module": "@jupyter-widgets/controls",
            "_model_module_version": "1.5.0",
            "_model_name": "HTMLModel",
            "_view_count": null,
            "_view_module": "@jupyter-widgets/controls",
            "_view_module_version": "1.5.0",
            "_view_name": "HTMLView",
            "description": "",
            "description_tooltip": null,
            "layout": "IPY_MODEL_901017ccc9b34ee5a51c98d316c77daa",
            "placeholder": "​",
            "style": "IPY_MODEL_bdcd26123afd4a1a811cd298a20de73e",
            "value": " 100/100 [00:04&lt;00:00, 17.42it/s]"
          }
        },
        "d936d7b594b949d79da85095f753273f": {
          "model_module": "@jupyter-widgets/base",
          "model_name": "LayoutModel",
          "model_module_version": "1.2.0",
          "state": {
            "_model_module": "@jupyter-widgets/base",
            "_model_module_version": "1.2.0",
            "_model_name": "LayoutModel",
            "_view_count": null,
            "_view_module": "@jupyter-widgets/base",
            "_view_module_version": "1.2.0",
            "_view_name": "LayoutView",
            "align_content": null,
            "align_items": null,
            "align_self": null,
            "border": null,
            "bottom": null,
            "display": null,
            "flex": null,
            "flex_flow": null,
            "grid_area": null,
            "grid_auto_columns": null,
            "grid_auto_flow": null,
            "grid_auto_rows": null,
            "grid_column": null,
            "grid_gap": null,
            "grid_row": null,
            "grid_template_areas": null,
            "grid_template_columns": null,
            "grid_template_rows": null,
            "height": null,
            "justify_content": null,
            "justify_items": null,
            "left": null,
            "margin": null,
            "max_height": null,
            "max_width": null,
            "min_height": null,
            "min_width": null,
            "object_fit": null,
            "object_position": null,
            "order": null,
            "overflow": null,
            "overflow_x": null,
            "overflow_y": null,
            "padding": null,
            "right": null,
            "top": null,
            "visibility": null,
            "width": null
          }
        },
        "06316f277874483aaf7cd85a354d0824": {
          "model_module": "@jupyter-widgets/base",
          "model_name": "LayoutModel",
          "model_module_version": "1.2.0",
          "state": {
            "_model_module": "@jupyter-widgets/base",
            "_model_module_version": "1.2.0",
            "_model_name": "LayoutModel",
            "_view_count": null,
            "_view_module": "@jupyter-widgets/base",
            "_view_module_version": "1.2.0",
            "_view_name": "LayoutView",
            "align_content": null,
            "align_items": null,
            "align_self": null,
            "border": null,
            "bottom": null,
            "display": null,
            "flex": null,
            "flex_flow": null,
            "grid_area": null,
            "grid_auto_columns": null,
            "grid_auto_flow": null,
            "grid_auto_rows": null,
            "grid_column": null,
            "grid_gap": null,
            "grid_row": null,
            "grid_template_areas": null,
            "grid_template_columns": null,
            "grid_template_rows": null,
            "height": null,
            "justify_content": null,
            "justify_items": null,
            "left": null,
            "margin": null,
            "max_height": null,
            "max_width": null,
            "min_height": null,
            "min_width": null,
            "object_fit": null,
            "object_position": null,
            "order": null,
            "overflow": null,
            "overflow_x": null,
            "overflow_y": null,
            "padding": null,
            "right": null,
            "top": null,
            "visibility": null,
            "width": null
          }
        },
        "58b34918fbd74cd3b853e64568330c81": {
          "model_module": "@jupyter-widgets/controls",
          "model_name": "DescriptionStyleModel",
          "model_module_version": "1.5.0",
          "state": {
            "_model_module": "@jupyter-widgets/controls",
            "_model_module_version": "1.5.0",
            "_model_name": "DescriptionStyleModel",
            "_view_count": null,
            "_view_module": "@jupyter-widgets/base",
            "_view_module_version": "1.2.0",
            "_view_name": "StyleView",
            "description_width": ""
          }
        },
        "d27091868c854e1bbadc5a54a520bddd": {
          "model_module": "@jupyter-widgets/base",
          "model_name": "LayoutModel",
          "model_module_version": "1.2.0",
          "state": {
            "_model_module": "@jupyter-widgets/base",
            "_model_module_version": "1.2.0",
            "_model_name": "LayoutModel",
            "_view_count": null,
            "_view_module": "@jupyter-widgets/base",
            "_view_module_version": "1.2.0",
            "_view_name": "LayoutView",
            "align_content": null,
            "align_items": null,
            "align_self": null,
            "border": null,
            "bottom": null,
            "display": null,
            "flex": null,
            "flex_flow": null,
            "grid_area": null,
            "grid_auto_columns": null,
            "grid_auto_flow": null,
            "grid_auto_rows": null,
            "grid_column": null,
            "grid_gap": null,
            "grid_row": null,
            "grid_template_areas": null,
            "grid_template_columns": null,
            "grid_template_rows": null,
            "height": null,
            "justify_content": null,
            "justify_items": null,
            "left": null,
            "margin": null,
            "max_height": null,
            "max_width": null,
            "min_height": null,
            "min_width": null,
            "object_fit": null,
            "object_position": null,
            "order": null,
            "overflow": null,
            "overflow_x": null,
            "overflow_y": null,
            "padding": null,
            "right": null,
            "top": null,
            "visibility": null,
            "width": null
          }
        },
        "33a82a156dd34f029654e873db6f34e2": {
          "model_module": "@jupyter-widgets/controls",
          "model_name": "ProgressStyleModel",
          "model_module_version": "1.5.0",
          "state": {
            "_model_module": "@jupyter-widgets/controls",
            "_model_module_version": "1.5.0",
            "_model_name": "ProgressStyleModel",
            "_view_count": null,
            "_view_module": "@jupyter-widgets/base",
            "_view_module_version": "1.2.0",
            "_view_name": "StyleView",
            "bar_color": null,
            "description_width": ""
          }
        },
        "901017ccc9b34ee5a51c98d316c77daa": {
          "model_module": "@jupyter-widgets/base",
          "model_name": "LayoutModel",
          "model_module_version": "1.2.0",
          "state": {
            "_model_module": "@jupyter-widgets/base",
            "_model_module_version": "1.2.0",
            "_model_name": "LayoutModel",
            "_view_count": null,
            "_view_module": "@jupyter-widgets/base",
            "_view_module_version": "1.2.0",
            "_view_name": "LayoutView",
            "align_content": null,
            "align_items": null,
            "align_self": null,
            "border": null,
            "bottom": null,
            "display": null,
            "flex": null,
            "flex_flow": null,
            "grid_area": null,
            "grid_auto_columns": null,
            "grid_auto_flow": null,
            "grid_auto_rows": null,
            "grid_column": null,
            "grid_gap": null,
            "grid_row": null,
            "grid_template_areas": null,
            "grid_template_columns": null,
            "grid_template_rows": null,
            "height": null,
            "justify_content": null,
            "justify_items": null,
            "left": null,
            "margin": null,
            "max_height": null,
            "max_width": null,
            "min_height": null,
            "min_width": null,
            "object_fit": null,
            "object_position": null,
            "order": null,
            "overflow": null,
            "overflow_x": null,
            "overflow_y": null,
            "padding": null,
            "right": null,
            "top": null,
            "visibility": null,
            "width": null
          }
        },
        "bdcd26123afd4a1a811cd298a20de73e": {
          "model_module": "@jupyter-widgets/controls",
          "model_name": "DescriptionStyleModel",
          "model_module_version": "1.5.0",
          "state": {
            "_model_module": "@jupyter-widgets/controls",
            "_model_module_version": "1.5.0",
            "_model_name": "DescriptionStyleModel",
            "_view_count": null,
            "_view_module": "@jupyter-widgets/base",
            "_view_module_version": "1.2.0",
            "_view_name": "StyleView",
            "description_width": ""
          }
        }
      }
    },
    "gpuClass": "standard"
  },
  "cells": [
    {
      "cell_type": "markdown",
      "metadata": {
        "id": "view-in-github",
        "colab_type": "text"
      },
      "source": [
        "<a href=\"https://colab.research.google.com/github/Liang130520/Deep_Learning/blob/main/20221117_tf-keras.ipynb\" target=\"_parent\"><img src=\"https://colab.research.google.com/assets/colab-badge.svg\" alt=\"Open In Colab\"/></a>"
      ]
    },
    {
      "cell_type": "code",
      "metadata": {
        "id": "8RhJmGMzdrXb"
      },
      "source": [
        "import numpy as np\n",
        "import cv2 # 圖片讀取\n",
        "import matplotlib.pyplot as plt # seaborn\n",
        "\n",
        "import os # file path\n",
        "from glob import glob # search files\n",
        "from tqdm.auto import tqdm # progress bar\n",
        "\n",
        "import tensorflow as tf\n",
        "from tensorflow.keras import layers, models, utils\n",
        "\n",
        "from sklearn.model_selection import train_test_split"
      ],
      "execution_count": 39,
      "outputs": []
    },
    {
      "cell_type": "markdown",
      "metadata": {
        "id": "yeC3lQ_cFUEz"
      },
      "source": [
        "#### Download dataset"
      ]
    },
    {
      "cell_type": "code",
      "metadata": {
        "id": "Muk-QdllFWtg"
      },
      "source": [
        "# download from google drive\n",
        "!gdown --fuzzy 1fIViA1w8MVJJZJcAjMwapHIYazuyTczE --output pneumonia.zip"
      ],
      "execution_count": 40,
      "outputs": []
    },
    {
      "cell_type": "code",
      "metadata": {
        "id": "VyaQ7DbTFkKD"
      },
      "source": [
        "# unzip dataset file\n",
        "!unzip -q pneumonia.zip"
      ],
      "execution_count": 41,
      "outputs": []
    },
    {
      "cell_type": "markdown",
      "metadata": {
        "id": "xnZxMBoxF1P3"
      },
      "source": [
        "#### Prepare dataset\n"
      ]
    },
    {
      "cell_type": "code",
      "metadata": {
        "id": "mPIpgmfHfAcW",
        "colab": {
          "base_uri": "https://localhost:8080/"
        },
        "outputId": "97d0827b-4727-4dff-af03-0cce8224d49f"
      },
      "source": [
        "IMG_SIZE = 200 # 256 128 64\n",
        "all_class = ['normal', 'bacteria', 'virus']\n",
        "class_map = {cls: i for i, cls in enumerate(all_class)} #  'normal':0, 'bacteria': 1, 'virus':2\n",
        "class_map"
      ],
      "execution_count": 42,
      "outputs": [
        {
          "output_type": "execute_result",
          "data": {
            "text/plain": [
              "{'normal': 0, 'bacteria': 1, 'virus': 2}"
            ]
          },
          "metadata": {},
          "execution_count": 42
        }
      ]
    },
    {
      "cell_type": "code",
      "metadata": {
        "id": "TunMqWnneBfp"
      },
      "source": [
        "# read all paths\n",
        "# *: all\n",
        "img_paths_train = glob('pneumonia/train/*/*.jpeg') # glb 是搜尋資料, 此行 = 搜尋 pneumonia/train 裡所有的 jpeg 檔\n",
        "# img_paths_train = glob('pneumonia/train/normal/*.jpeg') + glob('pneumonia/train/pneumonia/*.jpeg')\n",
        "\n",
        "img_paths_test = glob('pneumonia/val/*/*.jpeg')"
      ],
      "execution_count": 43,
      "outputs": []
    },
    {
      "cell_type": "code",
      "metadata": {
        "colab": {
          "base_uri": "https://localhost:8080/"
        },
        "id": "-ZZdr6mzXQOq",
        "outputId": "efbdb94c-afe9-46b2-b5cf-1e782f6e35c2"
      },
      "source": [
        "img_paths_train[:3]"
      ],
      "execution_count": 44,
      "outputs": [
        {
          "output_type": "execute_result",
          "data": {
            "text/plain": [
              "['pneumonia/train/pneumonia/person1661_bacteria_4406.jpeg',\n",
              " 'pneumonia/train/pneumonia/person1308_bacteria_3292.jpeg',\n",
              " 'pneumonia/train/pneumonia/person1700_bacteria_4502.jpeg']"
            ]
          },
          "metadata": {},
          "execution_count": 44
        }
      ]
    },
    {
      "cell_type": "code",
      "metadata": {
        "id": "N6bifFi4nQpz",
        "colab": {
          "base_uri": "https://localhost:8080/"
        },
        "outputId": "f79d8336-3555-48fc-9fdb-43eecad3df8c"
      },
      "source": [
        "# number of images\n",
        "len(img_paths_train), len(img_paths_test)"
      ],
      "execution_count": 45,
      "outputs": [
        {
          "output_type": "execute_result",
          "data": {
            "text/plain": [
              "(150, 100)"
            ]
          },
          "metadata": {},
          "execution_count": 45
        }
      ]
    },
    {
      "cell_type": "code",
      "metadata": {
        "id": "Abad-NjMnFWf",
        "colab": {
          "base_uri": "https://localhost:8080/",
          "height": 279
        },
        "outputId": "7ce63adb-02ed-4130-eb36-3535bb8476bb"
      },
      "source": [
        "# show image\n",
        "path = img_paths_train[0]\n",
        "img = cv2.imread(path)\n",
        "print(path)\n",
        "print(img.shape)\n",
        "plt.imshow(img)\n",
        "plt.show()\n"
      ],
      "execution_count": 46,
      "outputs": [
        {
          "output_type": "stream",
          "name": "stdout",
          "text": [
            "pneumonia/train/pneumonia/person1661_bacteria_4406.jpeg\n",
            "(347, 607, 3)\n"
          ]
        },
        {
          "output_type": "display_data",
          "data": {
            "text/plain": [
              "<Figure size 432x288 with 1 Axes>"
            ],
            "image/png": "[encoded data removed]"
          },
          "metadata": {
            "needs_background": "light"
          }
        }
      ]
    },
    {
      "cell_type": "code",
      "metadata": {
        "id": "WEFUY0d8eZsS",
        "colab": {
          "base_uri": "https://localhost:8080/",
          "height": 287
        },
        "outputId": "74690a6c-0617-4e84-ef9e-52f07c6a53a9"
      },
      "source": [
        "# Resize  img\n",
        "img_resized = cv2.resize(img, (IMG_SIZE, IMG_SIZE))\n",
        "plt.imshow(img_resized)\n",
        "img.shape, img_resized.shape"
      ],
      "execution_count": 47,
      "outputs": [
        {
          "output_type": "execute_result",
          "data": {
            "text/plain": [
              "((347, 607, 3), (200, 200, 3))"
            ]
          },
          "metadata": {},
          "execution_count": 47
        },
        {
          "output_type": "display_data",
          "data": {
            "text/plain": [
              "<Figure size 432x288 with 1 Axes>"
            ],
            "image/png": "[encoded data removed]"
          },
          "metadata": {
            "needs_background": "light"
          }
        }
      ]
    },
    {
      "cell_type": "code",
      "metadata": {
        "id": "-fkyr4C-fXOW",
        "colab": {
          "base_uri": "https://localhost:8080/"
        },
        "outputId": "e8039e7f-29c2-4e65-f2ef-a452597e4c4f"
      },
      "source": [
        "# Extract img class\n",
        "# Linux 寫法, os.sep: /, 其他寫法, os.sep:\"/\"\n",
        "print(path)\n",
        "cls = path.split(os.sep)[-2]\n",
        "print(cls)"
      ],
      "execution_count": 48,
      "outputs": [
        {
          "output_type": "stream",
          "name": "stdout",
          "text": [
            "pneumonia/train/pneumonia/person1661_bacteria_4406.jpeg\n",
            "pneumonia\n"
          ]
        }
      ]
    },
    {
      "cell_type": "code",
      "metadata": {
        "id": "BS1jxQRpffKT",
        "outputId": "905bc38c-4ea3-4c8f-ad65-96c88664e553",
        "colab": {
          "base_uri": "https://localhost:8080/"
        }
      },
      "source": [
        "# Get file class index\n",
        "\n",
        "# for pneumonia class\n",
        "if cls == 'pneumonia':\n",
        "    # get filename\n",
        "    filename = path.split(os.sep)[-1]\n",
        "    print(filename)\n",
        "    # get pneumonia class\n",
        "    cls_pneumonia = filename.split('_')[1] \n",
        "    print(cls_pneumonia)\n",
        "    cls_idx = class_map[cls_pneumonia]\n",
        "    print(cls_idx)\n",
        "# for normal class\n",
        "else:\n",
        "    cls_idx = class_map[cls]"
      ],
      "execution_count": 49,
      "outputs": [
        {
          "output_type": "stream",
          "name": "stdout",
          "text": [
            "person1661_bacteria_4406.jpeg\n",
            "bacteria\n",
            "1\n"
          ]
        }
      ]
    },
    {
      "cell_type": "code",
      "metadata": {
        "colab": {
          "base_uri": "https://localhost:8080/"
        },
        "id": "yz_uNjlQYcpP",
        "outputId": "19731c97-1969-422b-d3e7-4f3aa9d568e1"
      },
      "source": [
        "cls_idx"
      ],
      "execution_count": 50,
      "outputs": [
        {
          "output_type": "execute_result",
          "data": {
            "text/plain": [
              "1"
            ]
          },
          "metadata": {},
          "execution_count": 50
        }
      ]
    },
    {
      "cell_type": "markdown",
      "metadata": {
        "id": "r0rkmdnpnxf5"
      },
      "source": [
        "### Read all images"
      ]
    },
    {
      "cell_type": "code",
      "metadata": {
        "id": "QgdcCmTdwOAP"
      },
      "source": [
        "def read_data(paths):\n",
        "    data_count = len(paths)\n",
        "    x = np.zeros((data_count, IMG_SIZE, IMG_SIZE, 1)) # model input\n",
        "    # x = np.zeros((data_count, IMG_SIZE, IMG_SIZE, 3)) # 當作彩色圖片處理 model input\n",
        "    y = np.zeros((data_count, )) # answer\n",
        "\n",
        "    for i, path in enumerate(tqdm(paths)):\n",
        "        # read image\n",
        "        img = cv2.imread(path) # (H, W, 3)\n",
        "        img = cv2.resize(img, (IMG_SIZE, IMG_SIZE)) # resize\n",
        "\n",
        "        # To Grayscale: OpenCV\n",
        "        img = cv2.cvtColor(img, cv2.COLOR_BGR2GRAY) # (H, W, 3) -> (H, W)\n",
        "        img = np.expand_dims(img, axis=-1) # (H, W) -> (H, W, 1)\n",
        "\n",
        "        # # To Grayscale\n",
        "        # img = img[:, :, :1] # (H, W, 3) -> (H, W, 1)\n",
        "\n",
        "        # Normalization\n",
        "        img = img / 255. # 0~255 -> 0~1\n",
        "\n",
        "        # read class index\n",
        "        cls = path.split(os.sep)[-2]\n",
        "        # for pneumonia class\n",
        "        if cls == 'pneumonia':\n",
        "            # get filename\n",
        "            filename = path.split(os.sep)[-1]\n",
        "            # get pneumonia class\n",
        "            cls_pneumonia = filename.split('_')[1] \n",
        "            cls_idx = class_map[cls_pneumonia]\n",
        "        # for normal class\n",
        "        else:\n",
        "            cls_idx = class_map[cls]\n",
        "            \n",
        "        x[i] = img\n",
        "        y[i] = cls_idx\n",
        "    return x, y"
      ],
      "execution_count": 51,
      "outputs": []
    },
    {
      "cell_type": "code",
      "metadata": {
        "id": "zlI9EBtew4fS",
        "colab": {
          "base_uri": "https://localhost:8080/",
          "height": 81,
          "referenced_widgets": [
            "4c7d7156538f4730872fb7f1618166be",
            "8f6ca70e044d44c5b9d591a20d245e08",
            "4220875f9049400f948774c241de775e",
            "246fb4e7401a4753a74f919033d46af7",
            "79a1606cb8dc4af8b613ab2be2b4560a",
            "b8ed3345a3904e0da075a0484e03e24f",
            "a3f876cfcc274bbd9776765988b208f4",
            "08d3e5d3576c45a8947ef2b03e93195b",
            "89e172637f7144d19ad5a602d864f43e",
            "0d12a1d08ca5479db9a41fe24e133d00",
            "d1fa59561aeb447191d9c5f87601aa0c",
            "24cbebe339f44442806332a00e00737a",
            "489d2fd03aea4c6a815de0c63583cc23",
            "d87854248f974d2d84e9e8b40ad9737b",
            "5c04e518d4be4e03ae84d5f04eda5d53",
            "d936d7b594b949d79da85095f753273f",
            "06316f277874483aaf7cd85a354d0824",
            "58b34918fbd74cd3b853e64568330c81",
            "d27091868c854e1bbadc5a54a520bddd",
            "33a82a156dd34f029654e873db6f34e2",
            "901017ccc9b34ee5a51c98d316c77daa",
            "bdcd26123afd4a1a811cd298a20de73e"
          ]
        },
        "outputId": "cc19cd1c-b392-4802-c7e6-32e7fd68e2c5"
      },
      "source": [
        "x_train, y_train = read_data(img_paths_train)\n",
        "x_test, y_test = read_data(img_paths_test)"
      ],
      "execution_count": 52,
      "outputs": [
        {
          "output_type": "display_data",
          "data": {
            "text/plain": [
              "  0%|          | 0/150 [00:00<?, ?it/s]"
            ],
            "application/vnd.jupyter.widget-view+json": {
              "version_major": 2,
              "version_minor": 0,
              "model_id": "4c7d7156538f4730872fb7f1618166be"
            }
          },
          "metadata": {}
        },
        {
          "output_type": "display_data",
          "data": {
            "text/plain": [
              "  0%|          | 0/100 [00:00<?, ?it/s]"
            ],
            "application/vnd.jupyter.widget-view+json": {
              "version_major": 2,
              "version_minor": 0,
              "model_id": "24cbebe339f44442806332a00e00737a"
            }
          },
          "metadata": {}
        }
      ]
    },
    {
      "cell_type": "code",
      "source": [
        "x_train.shape, y_train.shape"
      ],
      "metadata": {
        "colab": {
          "base_uri": "https://localhost:8080/"
        },
        "id": "-YzPHnPPKrq8",
        "outputId": "1ed13a0b-00e2-4591-a06a-240a1326c42f"
      },
      "execution_count": 53,
      "outputs": [
        {
          "output_type": "execute_result",
          "data": {
            "text/plain": [
              "((150, 200, 200, 1), (150,))"
            ]
          },
          "metadata": {},
          "execution_count": 53
        }
      ]
    },
    {
      "cell_type": "code",
      "metadata": {
        "id": "JBkh9HJdhrLH",
        "colab": {
          "base_uri": "https://localhost:8080/"
        },
        "outputId": "9c9dc4c5-95c3-4add-86d5-98666554a238"
      },
      "source": [
        "# label count\n",
        "print(all_class)\n",
        "# train\n",
        "unique_classes, counts = np.unique(y_train, \n",
        "                                   return_counts=True)\n",
        "print(unique_classes, counts)\n",
        "\n",
        "# test\n",
        "unique_classes, counts = np.unique(y_test, \n",
        "                                   return_counts=True)\n",
        "print(unique_classes, counts)"
      ],
      "execution_count": 54,
      "outputs": [
        {
          "output_type": "stream",
          "name": "stdout",
          "text": [
            "['normal', 'bacteria', 'virus']\n",
            "[0. 1. 2.] [100  33  17]\n",
            "[0. 1. 2.] [50 28 22]\n"
          ]
        }
      ]
    },
    {
      "cell_type": "code",
      "metadata": {
        "id": "ZwiobxSRjIAW",
        "colab": {
          "base_uri": "https://localhost:8080/"
        },
        "outputId": "6aa1a959-60c4-4204-964a-576830f17525"
      },
      "source": [
        "# split train and test dataset\n",
        "x_train, x_val, y_train, y_val = train_test_split(x_train, y_train, \n",
        "                                                  test_size=0.2, # 80% : 20%\n",
        "                                                  random_state=5566)\n",
        "x_train.shape, x_val.shape, y_train.shape, y_val.shape"
      ],
      "execution_count": 55,
      "outputs": [
        {
          "output_type": "execute_result",
          "data": {
            "text/plain": [
              "((120, 200, 200, 1), (30, 200, 200, 1), (120,), (30,))"
            ]
          },
          "metadata": {},
          "execution_count": 55
        }
      ]
    },
    {
      "cell_type": "code",
      "metadata": {
        "id": "sfdJ8OL4sl2D",
        "colab": {
          "base_uri": "https://localhost:8080/"
        },
        "outputId": "c53f89f8-d37f-41da-8b20-7f90c87f066d"
      },
      "source": [
        "y_train"
      ],
      "execution_count": 56,
      "outputs": [
        {
          "output_type": "execute_result",
          "data": {
            "text/plain": [
              "array([1., 2., 0., 0., 0., 0., 2., 0., 0., 0., 2., 0., 0., 1., 0., 0., 1.,\n",
              "       0., 0., 0., 1., 2., 1., 1., 0., 0., 0., 1., 0., 0., 0., 2., 0., 0.,\n",
              "       1., 2., 0., 1., 0., 0., 0., 0., 1., 0., 0., 2., 1., 0., 1., 0., 0.,\n",
              "       0., 0., 0., 0., 0., 0., 0., 2., 1., 0., 0., 0., 0., 0., 0., 1., 1.,\n",
              "       0., 0., 1., 1., 0., 1., 0., 0., 0., 0., 0., 1., 0., 0., 2., 1., 0.,\n",
              "       1., 1., 0., 0., 0., 0., 0., 0., 0., 1., 1., 2., 0., 0., 1., 1., 0.,\n",
              "       0., 2., 0., 0., 0., 0., 0., 2., 0., 1., 0., 0., 0., 0., 0., 0., 1.,\n",
              "       0.])"
            ]
          },
          "metadata": {},
          "execution_count": 56
        }
      ]
    },
    {
      "cell_type": "code",
      "metadata": {
        "id": "rcqEPUGpzyRh"
      },
      "source": [
        "# one-hot encoding\n",
        "y_train = utils.to_categorical(y_train, \n",
        "                               num_classes=len(class_map))\n",
        "y_val = utils.to_categorical(y_val, \n",
        "                             num_classes=len(class_map))\n",
        "y_test = utils.to_categorical(y_test, \n",
        "                              num_classes=len(class_map))"
      ],
      "execution_count": 57,
      "outputs": []
    },
    {
      "cell_type": "code",
      "metadata": {
        "id": "qbwUx9Sz_Rcq",
        "colab": {
          "base_uri": "https://localhost:8080/"
        },
        "outputId": "16fe8a3f-3429-4e6b-fa0c-2cb815f26d39"
      },
      "source": [
        "y_train.shape, y_val.shape, y_test.shape"
      ],
      "execution_count": 58,
      "outputs": [
        {
          "output_type": "execute_result",
          "data": {
            "text/plain": [
              "((120, 3), (30, 3), (100, 3))"
            ]
          },
          "metadata": {},
          "execution_count": 58
        }
      ]
    },
    {
      "cell_type": "code",
      "metadata": {
        "colab": {
          "base_uri": "https://localhost:8080/"
        },
        "id": "sart09XCaFhI",
        "outputId": "7d0e6acf-68ed-4a30-ef12-61aea06d3c44"
      },
      "source": [
        "y_train[:10]"
      ],
      "execution_count": 59,
      "outputs": [
        {
          "output_type": "execute_result",
          "data": {
            "text/plain": [
              "array([[0., 1., 0.],\n",
              "       [0., 0., 1.],\n",
              "       [1., 0., 0.],\n",
              "       [1., 0., 0.],\n",
              "       [1., 0., 0.],\n",
              "       [1., 0., 0.],\n",
              "       [0., 0., 1.],\n",
              "       [1., 0., 0.],\n",
              "       [1., 0., 0.],\n",
              "       [1., 0., 0.]], dtype=float32)"
            ]
          },
          "metadata": {},
          "execution_count": 59
        }
      ]
    },
    {
      "cell_type": "markdown",
      "metadata": {
        "id": "zQtnD5WbtVDy"
      },
      "source": [
        "### Build model"
      ]
    },
    {
      "cell_type": "code",
      "metadata": {
        "id": "VTvodRYkkXQh"
      },
      "source": [
        "# 1: Functional API\n",
        "\n",
        "# Encoder: Feature Extractor\n",
        "inputs = layers.Input(shape=(IMG_SIZE, IMG_SIZE, 1))\n",
        "x = layers.Conv2D(filters=64, kernel_size=7, activation='relu')(inputs)\n",
        "x = layers.Conv2D(filters=64, kernel_size=7, activation='relu')(x)\n",
        "x = layers.MaxPool2D(2)(x)\n",
        "\n",
        "x = layers.Conv2D(filters=128, kernel_size=7, activation='relu')(x)\n",
        "x = layers.Conv2D(filters=128, kernel_size=7, activation='relu')(x)\n",
        "x = layers.MaxPool2D(2)(x)\n",
        "\n",
        "x = layers.Conv2D(filters=256, kernel_size=7, activation='relu')(x)\n",
        "x = layers.Conv2D(filters=256, kernel_size=7, activation='relu')(x)\n",
        "x = layers.MaxPool2D(2)(x)\n",
        "\n",
        "x = layers.Flatten()(x)\n",
        "# Classifier\n",
        "x = layers.Dense(64, activation='relu')(x)\n",
        "prediction = layers.Dense(3, activation='softmax')(x)\n",
        "\n",
        "model = models.Model(inputs=inputs, outputs=prediction)"
      ],
      "execution_count": 60,
      "outputs": []
    },
    {
      "cell_type": "code",
      "metadata": {
        "id": "fCj9C_-5pB2q"
      },
      "source": [
        "# 2\n",
        "model = models.Sequential()\n",
        "model.add(layers.Conv2D(filters=64, kernel_size=3, activation='relu', \n",
        "                         input_shape=(IMG_SIZE, IMG_SIZE, 1)))\n",
        "model.add(layers.Conv2D(filters=64, kernel_size=3, activation='relu'))\n",
        "model.add(layers.MaxPool2D(2))\n",
        "model.add(layers.Conv2D(filters=128, kernel_size=3, activation='relu'))\n",
        "model.add(layers.Conv2D(filters=128, kernel_size=3, activation='relu'))\n",
        "model.add(layers.MaxPool2D(2))\n",
        "model.add(layers.Conv2D(filters=256, kernel_size=3, activation='relu'))\n",
        "model.add(layers.Conv2D(filters=256, kernel_size=3, activation='relu'))\n",
        "model.add(layers.MaxPool2D(2))\n",
        "model.add(layers.Flatten())\n",
        "model.add(layers.Dense(64, activation='relu'))\n",
        "model.add(layers.Dense(3, activation='softmax'))"
      ],
      "execution_count": 61,
      "outputs": []
    },
    {
      "cell_type": "code",
      "source": [
        "# 3\n",
        "model = models.Sequential([\n",
        "    layers.Conv2D(filters=64, kernel_size=3, activation='relu', \n",
        "                  input_shape=(IMG_SIZE, IMG_SIZE, 1)),\n",
        "    layers.Conv2D(filters=64, kernel_size=3, activation='relu'),\n",
        "    layers.MaxPool2D(2),\n",
        "    layers.Flatten(),\n",
        "    layers.Dense(3, activation='softmax'),\n",
        "])"
      ],
      "metadata": {
        "id": "FGd_1t-iUGqp"
      },
      "execution_count": 62,
      "outputs": []
    },
    {
      "cell_type": "code",
      "source": [
        "# 4: Subclass\n",
        "class MyModel(tf.keras.models.Model):\n",
        "    def __init__(self):\n",
        "        super().__init__()\n",
        "        self.encoder = models.Sequential([\n",
        "            layers.Conv2D(filters=64, kernel_size=3, activation='relu'),\n",
        "            layers.Conv2D(filters=64, kernel_size=3, activation='relu'),\n",
        "            layers.MaxPool2D(2),\n",
        "        ])\n",
        "        self.flatten = layers.Flatten()\n",
        "        # self.flatten = layers.GlobalAveragePooling2D()\n",
        "        self.classifier = models.Sequential([\n",
        "            layers.Dense(64, activation='relu'),\n",
        "            layers.Dense(3, activation='softmax')               \n",
        "        ])\n",
        "\n",
        "    def call(self, x):\n",
        "        print(\"Start call\")\n",
        "        x = self.encoder(x)\n",
        "        x = self.flatten(x)\n",
        "        x = self.classifier(x)\n",
        "        return x\n",
        "\n",
        "    def features(self, x):\n",
        "        x = self.encoder(x)\n",
        "        x = self.flatten(x)\n",
        "        return x\n",
        "\n",
        "model = MyModel()\n",
        "model.build((1, 200, 200, 1)) # (BS, 200, 200, 1)"
      ],
      "metadata": {
        "id": "AJxviBD3Udku",
        "outputId": "31351858-6f37-4a94-a972-eae3c3a234df",
        "colab": {
          "base_uri": "https://localhost:8080/"
        }
      },
      "execution_count": 63,
      "outputs": [
        {
          "output_type": "stream",
          "name": "stdout",
          "text": [
            "Start call\n"
          ]
        }
      ]
    },
    {
      "cell_type": "code",
      "source": [
        "imgs = np.random.normal(0, 1, size=(1, 200, 200, 1))\n",
        "\n",
        "output = model(imgs)\n",
        "# output = model.features(imgs)\n",
        "\n",
        "output.shape"
      ],
      "metadata": {
        "colab": {
          "base_uri": "https://localhost:8080/"
        },
        "id": "4U5VaoEzQaax",
        "outputId": "ba6f6d72-7098-4283-e6bb-dbf69bd63e02"
      },
      "execution_count": 64,
      "outputs": [
        {
          "output_type": "stream",
          "name": "stdout",
          "text": [
            "Start call\n"
          ]
        },
        {
          "output_type": "execute_result",
          "data": {
            "text/plain": [
              "TensorShape([1, 3])"
            ]
          },
          "metadata": {},
          "execution_count": 64
        }
      ]
    },
    {
      "cell_type": "code",
      "metadata": {
        "id": "8bXw628qltQk",
        "colab": {
          "base_uri": "https://localhost:8080/"
        },
        "outputId": "92c9f2f9-962e-4d89-d97f-7f14310305f2"
      },
      "source": [
        "model.summary()"
      ],
      "execution_count": 65,
      "outputs": [
        {
          "output_type": "stream",
          "name": "stdout",
          "text": [
            "Model: \"my_model\"\n",
            "_________________________________________________________________\n",
            " Layer (type)                Output Shape              Param #   \n",
            "=================================================================\n",
            " sequential_2 (Sequential)   (1, 98, 98, 64)           37568     \n",
            "                                                                 \n",
            " flatten_4 (Flatten)         multiple                  0         \n",
            "                                                                 \n",
            " sequential_3 (Sequential)   (1, 3)                    39338243  \n",
            "                                                                 \n",
            "=================================================================\n",
            "Total params: 39,375,811\n",
            "Trainable params: 39,375,811\n",
            "Non-trainable params: 0\n",
            "_________________________________________________________________\n"
          ]
        }
      ]
    },
    {
      "cell_type": "code",
      "source": [
        "model.encoder.summary()"
      ],
      "metadata": {
        "colab": {
          "base_uri": "https://localhost:8080/"
        },
        "id": "YWkyzhQtPpQN",
        "outputId": "0bd9e43c-7787-469c-8872-038abfe397dc"
      },
      "execution_count": 66,
      "outputs": [
        {
          "output_type": "stream",
          "name": "stdout",
          "text": [
            "Model: \"sequential_2\"\n",
            "_________________________________________________________________\n",
            " Layer (type)                Output Shape              Param #   \n",
            "=================================================================\n",
            " conv2d_20 (Conv2D)          (1, 198, 198, 64)         640       \n",
            "                                                                 \n",
            " conv2d_21 (Conv2D)          (1, 196, 196, 64)         36928     \n",
            "                                                                 \n",
            " max_pooling2d_10 (MaxPoolin  (1, 98, 98, 64)          0         \n",
            " g2D)                                                            \n",
            "                                                                 \n",
            "=================================================================\n",
            "Total params: 37,568\n",
            "Trainable params: 37,568\n",
            "Non-trainable params: 0\n",
            "_________________________________________________________________\n"
          ]
        }
      ]
    },
    {
      "cell_type": "markdown",
      "metadata": {
        "id": "M4bvDYip0PAG"
      },
      "source": [
        "### Training"
      ]
    },
    {
      "cell_type": "code",
      "metadata": {
        "id": "TlrMQGuMl5qm"
      },
      "source": [
        "model.compile(loss=tf.keras.losses.categorical_crossentropy,\n",
        "            #   loss=tf.keras.losses.CategoricalCrossentropy(),\n",
        "              \n",
        "              optimizer=tf.keras.optimizers.SGD(),\n",
        "              metrics=['accuracy'])"
      ],
      "execution_count": 67,
      "outputs": []
    },
    {
      "cell_type": "code",
      "metadata": {
        "id": "tmIwgvJDl9Ul",
        "colab": {
          "base_uri": "https://localhost:8080/"
        },
        "outputId": "213c3166-b1ba-4f63-f4db-7a2755c6ade6"
      },
      "source": [
        "logs = model.fit(x_train, y_train,\n",
        "                 batch_size=32,\n",
        "                 epochs=30,\n",
        "                 validation_data=(x_val, y_val),\n",
        "                 )"
      ],
      "execution_count": 68,
      "outputs": [
        {
          "output_type": "stream",
          "name": "stdout",
          "text": [
            "Epoch 1/30\n",
            "Start call\n",
            "Start call\n",
            "4/4 [==============================] - ETA: 0s - loss: 0.9996 - accuracy: 0.4250Start call\n",
            "4/4 [==============================] - 5s 745ms/step - loss: 0.9996 - accuracy: 0.4250 - val_loss: 0.8978 - val_accuracy: 0.6667\n",
            "Epoch 2/30\n",
            "4/4 [==============================] - 0s 115ms/step - loss: 0.8353 - accuracy: 0.6667 - val_loss: 0.8285 - val_accuracy: 0.6667\n",
            "Epoch 3/30\n",
            "4/4 [==============================] - 0s 114ms/step - loss: 0.7899 - accuracy: 0.6667 - val_loss: 0.8080 - val_accuracy: 0.6667\n",
            "Epoch 4/30\n",
            "4/4 [==============================] - 0s 113ms/step - loss: 0.7534 - accuracy: 0.6667 - val_loss: 0.7642 - val_accuracy: 0.6667\n",
            "Epoch 5/30\n",
            "4/4 [==============================] - 0s 114ms/step - loss: 0.7367 - accuracy: 0.6833 - val_loss: 0.7490 - val_accuracy: 0.6667\n",
            "Epoch 6/30\n",
            "4/4 [==============================] - 0s 114ms/step - loss: 0.7188 - accuracy: 0.7167 - val_loss: 0.7455 - val_accuracy: 0.6667\n",
            "Epoch 7/30\n",
            "4/4 [==============================] - 0s 114ms/step - loss: 0.6605 - accuracy: 0.7333 - val_loss: 0.6460 - val_accuracy: 0.6667\n",
            "Epoch 8/30\n",
            "4/4 [==============================] - 0s 115ms/step - loss: 0.6231 - accuracy: 0.7167 - val_loss: 0.6023 - val_accuracy: 0.8000\n",
            "Epoch 9/30\n",
            "4/4 [==============================] - 0s 114ms/step - loss: 0.5845 - accuracy: 0.7750 - val_loss: 0.7796 - val_accuracy: 0.6667\n",
            "Epoch 10/30\n",
            "4/4 [==============================] - 0s 121ms/step - loss: 0.5593 - accuracy: 0.7917 - val_loss: 0.5640 - val_accuracy: 0.8000\n",
            "Epoch 11/30\n",
            "4/4 [==============================] - 0s 113ms/step - loss: 0.5910 - accuracy: 0.8000 - val_loss: 0.6620 - val_accuracy: 0.6667\n",
            "Epoch 12/30\n",
            "4/4 [==============================] - 0s 115ms/step - loss: 0.7366 - accuracy: 0.7250 - val_loss: 0.7509 - val_accuracy: 0.6667\n",
            "Epoch 13/30\n",
            "4/4 [==============================] - 0s 114ms/step - loss: 0.5834 - accuracy: 0.7917 - val_loss: 0.5203 - val_accuracy: 0.8000\n",
            "Epoch 14/30\n",
            "4/4 [==============================] - 0s 113ms/step - loss: 0.4568 - accuracy: 0.8167 - val_loss: 0.5776 - val_accuracy: 0.8000\n",
            "Epoch 15/30\n",
            "4/4 [==============================] - 0s 114ms/step - loss: 0.4213 - accuracy: 0.8250 - val_loss: 0.7257 - val_accuracy: 0.7000\n",
            "Epoch 16/30\n",
            "4/4 [==============================] - 0s 113ms/step - loss: 0.7944 - accuracy: 0.6250 - val_loss: 0.4828 - val_accuracy: 0.8000\n",
            "Epoch 17/30\n",
            "4/4 [==============================] - 0s 115ms/step - loss: 0.4594 - accuracy: 0.8083 - val_loss: 0.6166 - val_accuracy: 0.7000\n",
            "Epoch 18/30\n",
            "4/4 [==============================] - 0s 113ms/step - loss: 0.4164 - accuracy: 0.8500 - val_loss: 0.6111 - val_accuracy: 0.7000\n",
            "Epoch 19/30\n",
            "4/4 [==============================] - 0s 113ms/step - loss: 0.3739 - accuracy: 0.8583 - val_loss: 0.4576 - val_accuracy: 0.8333\n",
            "Epoch 20/30\n",
            "4/4 [==============================] - 0s 115ms/step - loss: 0.3753 - accuracy: 0.8500 - val_loss: 0.4419 - val_accuracy: 0.8000\n",
            "Epoch 21/30\n",
            "4/4 [==============================] - 0s 114ms/step - loss: 0.4824 - accuracy: 0.7833 - val_loss: 0.5498 - val_accuracy: 0.7667\n",
            "Epoch 22/30\n",
            "4/4 [==============================] - 0s 114ms/step - loss: 0.5546 - accuracy: 0.7833 - val_loss: 0.4150 - val_accuracy: 0.8000\n",
            "Epoch 23/30\n",
            "4/4 [==============================] - 0s 114ms/step - loss: 0.5533 - accuracy: 0.7500 - val_loss: 0.4668 - val_accuracy: 0.8000\n",
            "Epoch 24/30\n",
            "4/4 [==============================] - 0s 114ms/step - loss: 0.3520 - accuracy: 0.8833 - val_loss: 0.4081 - val_accuracy: 0.8000\n",
            "Epoch 25/30\n",
            "4/4 [==============================] - 0s 113ms/step - loss: 0.3280 - accuracy: 0.8667 - val_loss: 0.6530 - val_accuracy: 0.7000\n",
            "Epoch 26/30\n",
            "4/4 [==============================] - 0s 113ms/step - loss: 0.3061 - accuracy: 0.8833 - val_loss: 0.5777 - val_accuracy: 0.7000\n",
            "Epoch 27/30\n",
            "4/4 [==============================] - 0s 114ms/step - loss: 0.2878 - accuracy: 0.8750 - val_loss: 0.7221 - val_accuracy: 0.7000\n",
            "Epoch 28/30\n",
            "4/4 [==============================] - 0s 113ms/step - loss: 0.2991 - accuracy: 0.8833 - val_loss: 0.4190 - val_accuracy: 0.7667\n",
            "Epoch 29/30\n",
            "4/4 [==============================] - 0s 115ms/step - loss: 0.2660 - accuracy: 0.8917 - val_loss: 0.4047 - val_accuracy: 0.7667\n",
            "Epoch 30/30\n",
            "4/4 [==============================] - 0s 112ms/step - loss: 0.2656 - accuracy: 0.8750 - val_loss: 0.3436 - val_accuracy: 0.8333\n"
          ]
        }
      ]
    },
    {
      "cell_type": "markdown",
      "metadata": {
        "id": "673D-Jn8tYmk"
      },
      "source": [
        "### Training logs"
      ]
    },
    {
      "cell_type": "code",
      "metadata": {
        "id": "9C1LAi_Bl_wG",
        "cellView": "both"
      },
      "source": [
        "history = logs.history"
      ],
      "execution_count": 69,
      "outputs": []
    },
    {
      "cell_type": "code",
      "metadata": {
        "id": "8QShNdO00YYZ",
        "colab": {
          "base_uri": "https://localhost:8080/"
        },
        "outputId": "599710b1-febb-4cfb-a545-86f579888084"
      },
      "source": [
        "min_loss_epoch = np.argmin(history['val_loss'])\n",
        "print('min_loss_epoch: ', min_loss_epoch+1)\n",
        "print('val loss ', history['val_loss'][min_loss_epoch])\n",
        "print('val acc', history['val_accuracy'][min_loss_epoch])"
      ],
      "execution_count": 70,
      "outputs": [
        {
          "output_type": "stream",
          "name": "stdout",
          "text": [
            "min_loss_epoch:  30\n",
            "val loss  0.3436216413974762\n",
            "val acc 0.8333333134651184\n"
          ]
        }
      ]
    },
    {
      "cell_type": "code",
      "metadata": {
        "id": "EtV7nHnAnOUm",
        "colab": {
          "base_uri": "https://localhost:8080/",
          "height": 299
        },
        "outputId": "f83c7263-a654-4f13-c39c-e0701e3d825a"
      },
      "source": [
        "plt.plot(history['accuracy'])\n",
        "plt.plot(history['val_accuracy'])\n",
        "plt.legend(['accuracy', 'val_accuracy'])\n",
        "plt.title('accuracy')"
      ],
      "execution_count": 71,
      "outputs": [
        {
          "output_type": "execute_result",
          "data": {
            "text/plain": [
              "Text(0.5, 1.0, 'accuracy')"
            ]
          },
          "metadata": {},
          "execution_count": 71
        },
        {
          "output_type": "display_data",
          "data": {
            "text/plain": [
              "<Figure size 432x288 with 1 Axes>"
            ],
            "image/png": "[encoded data removed]"
          },
          "metadata": {
            "needs_background": "light"
          }
        }
      ]
    },
    {
      "cell_type": "code",
      "metadata": {
        "id": "h_UGbXp2nQHj",
        "colab": {
          "base_uri": "https://localhost:8080/",
          "height": 299
        },
        "outputId": "c3655c62-9e9b-4f5b-836e-8c44974c68eb"
      },
      "source": [
        "plt.plot(history['loss'])\n",
        "plt.plot(history['val_loss'])\n",
        "plt.legend(['loss', 'val_loss'])\n",
        "plt.title('loss')"
      ],
      "execution_count": 72,
      "outputs": [
        {
          "output_type": "execute_result",
          "data": {
            "text/plain": [
              "Text(0.5, 1.0, 'loss')"
            ]
          },
          "metadata": {},
          "execution_count": 72
        },
        {
          "output_type": "display_data",
          "data": {
            "text/plain": [
              "<Figure size 432x288 with 1 Axes>"
            ],
            "image/png": "[encoded data removed]"
          },
          "metadata": {
            "needs_background": "light"
          }
        }
      ]
    },
    {
      "cell_type": "markdown",
      "metadata": {
        "id": "IOyVhhoIs0Vp"
      },
      "source": [
        "### Metrics"
      ]
    },
    {
      "cell_type": "code",
      "metadata": {
        "colab": {
          "base_uri": "https://localhost:8080/"
        },
        "id": "Zz0xzr4XfDw-",
        "outputId": "6b49ffda-d084-4b02-d460-1b42e14a2817"
      },
      "source": [
        "y_test[:3], np.argmax(y_test[:3], axis=-1)"
      ],
      "execution_count": 73,
      "outputs": [
        {
          "output_type": "execute_result",
          "data": {
            "text/plain": [
              "(array([[0., 0., 1.],\n",
              "        [0., 1., 0.],\n",
              "        [0., 1., 0.]], dtype=float32), array([2, 1, 1]))"
            ]
          },
          "metadata": {},
          "execution_count": 73
        }
      ]
    },
    {
      "cell_type": "code",
      "metadata": {
        "id": "1_cHYtN2nS6D",
        "colab": {
          "base_uri": "https://localhost:8080/"
        },
        "outputId": "269af132-3858-44d3-8214-ff22099a41bd"
      },
      "source": [
        "from sklearn.metrics import classification_report, confusion_matrix\n",
        "\n",
        "y_true = np.argmax(y_test, axis=-1) # [0, 1, 2, ...]\n",
        "\n",
        "prediction = model.predict(x_test)\n",
        "y_pred = np.argmax(prediction, axis=-1) # [0, 1, 2, ...]\n",
        "\n",
        "print(y_true.shape, y_pred.shape)"
      ],
      "execution_count": 74,
      "outputs": [
        {
          "output_type": "stream",
          "name": "stdout",
          "text": [
            "Start call\n",
            "4/4 [==============================] - 0s 99ms/step\n",
            "(100,) (100,)\n"
          ]
        }
      ]
    },
    {
      "cell_type": "code",
      "metadata": {
        "colab": {
          "base_uri": "https://localhost:8080/"
        },
        "id": "2mntXHuWfnKL",
        "outputId": "b46f7e4d-9267-4dee-e4ea-d37cfe0dfd55"
      },
      "source": [
        "prediction[:3]"
      ],
      "execution_count": 75,
      "outputs": [
        {
          "output_type": "execute_result",
          "data": {
            "text/plain": [
              "array([[0.06106712, 0.6405925 , 0.29834032],\n",
              "       [0.69506156, 0.1528163 , 0.15212211],\n",
              "       [0.07286323, 0.5289465 , 0.39819026]], dtype=float32)"
            ]
          },
          "metadata": {},
          "execution_count": 75
        }
      ]
    },
    {
      "cell_type": "code",
      "metadata": {
        "id": "xr8lzaQ7q--d",
        "colab": {
          "base_uri": "https://localhost:8080/"
        },
        "outputId": "030b598e-c4b5-4b4e-fcd9-f69d8b38e094"
      },
      "source": [
        "# classification_report\n",
        "print(classification_report(y_true, y_pred))"
      ],
      "execution_count": 76,
      "outputs": [
        {
          "output_type": "stream",
          "name": "stdout",
          "text": [
            "              precision    recall  f1-score   support\n",
            "\n",
            "           0       0.75      0.86      0.80        50\n",
            "           1       0.35      0.54      0.42        28\n",
            "           2       0.00      0.00      0.00        22\n",
            "\n",
            "    accuracy                           0.58       100\n",
            "   macro avg       0.37      0.47      0.41       100\n",
            "weighted avg       0.47      0.58      0.52       100\n",
            "\n"
          ]
        },
        {
          "output_type": "stream",
          "name": "stderr",
          "text": [
            "/usr/local/lib/python3.7/dist-packages/sklearn/metrics/_classification.py:1318: UndefinedMetricWarning: Precision and F-score are ill-defined and being set to 0.0 in labels with no predicted samples. Use `zero_division` parameter to control this behavior.\n",
            "  _warn_prf(average, modifier, msg_start, len(result))\n",
            "/usr/local/lib/python3.7/dist-packages/sklearn/metrics/_classification.py:1318: UndefinedMetricWarning: Precision and F-score are ill-defined and being set to 0.0 in labels with no predicted samples. Use `zero_division` parameter to control this behavior.\n",
            "  _warn_prf(average, modifier, msg_start, len(result))\n",
            "/usr/local/lib/python3.7/dist-packages/sklearn/metrics/_classification.py:1318: UndefinedMetricWarning: Precision and F-score are ill-defined and being set to 0.0 in labels with no predicted samples. Use `zero_division` parameter to control this behavior.\n",
            "  _warn_prf(average, modifier, msg_start, len(result))\n"
          ]
        }
      ]
    },
    {
      "cell_type": "code",
      "metadata": {
        "id": "IUPHDm0ErBo9",
        "colab": {
          "base_uri": "https://localhost:8080/"
        },
        "outputId": "562c74f4-490e-477b-c10b-178b81ef3124"
      },
      "source": [
        "# Confusion matrix:\n",
        "#   row: Ground truth\n",
        "#   column: predict\n",
        "print(confusion_matrix(y_true, y_pred))"
      ],
      "execution_count": 77,
      "outputs": [
        {
          "output_type": "stream",
          "name": "stdout",
          "text": [
            "[[43  7  0]\n",
            " [13 15  0]\n",
            " [ 1 21  0]]\n"
          ]
        }
      ]
    },
    {
      "cell_type": "code",
      "metadata": {
        "id": "KOLsugG5-XNo"
      },
      "source": [],
      "execution_count": 77,
      "outputs": []
    },
    {
      "cell_type": "markdown",
      "metadata": {
        "id": "CRaXj-dXnrmV"
      },
      "source": [
        "#### Save model"
      ]
    },
    {
      "cell_type": "code",
      "metadata": {
        "id": "-kQfWFWEnsbm",
        "outputId": "606f2d50-6022-4811-9df6-cba6e6e8c91e",
        "colab": {
          "base_uri": "https://localhost:8080/",
          "height": 485
        }
      },
      "source": [
        "# 1. save whole model and weights\n",
        "model.save('my_model.h5')\n",
        "\n",
        "model2 = models.load_model('my_model.h5')\n",
        "# mode1 = model2"
      ],
      "execution_count": 78,
      "outputs": [
        {
          "output_type": "error",
          "ename": "NotImplementedError",
          "evalue": "ignored",
          "traceback": [
            "\u001b[0;31m---------------------------------------------------------------------------\u001b[0m",
            "\u001b[0;31mNotImplementedError\u001b[0m                       Traceback (most recent call last)",
            "\u001b[0;32m<ipython-input-78-f059beb5dc20>\u001b[0m in \u001b[0;36m<module>\u001b[0;34m\u001b[0m\n\u001b[1;32m      1\u001b[0m \u001b[0;31m# 1. save whole model and weights\u001b[0m\u001b[0;34m\u001b[0m\u001b[0;34m\u001b[0m\u001b[0;34m\u001b[0m\u001b[0m\n\u001b[0;32m----> 2\u001b[0;31m \u001b[0mmodel\u001b[0m\u001b[0;34m.\u001b[0m\u001b[0msave\u001b[0m\u001b[0;34m(\u001b[0m\u001b[0;34m'my_model.h5'\u001b[0m\u001b[0;34m)\u001b[0m\u001b[0;34m\u001b[0m\u001b[0;34m\u001b[0m\u001b[0m\n\u001b[0m\u001b[1;32m      3\u001b[0m \u001b[0;34m\u001b[0m\u001b[0m\n\u001b[1;32m      4\u001b[0m \u001b[0mmodel2\u001b[0m \u001b[0;34m=\u001b[0m \u001b[0mmodels\u001b[0m\u001b[0;34m.\u001b[0m\u001b[0mload_model\u001b[0m\u001b[0;34m(\u001b[0m\u001b[0;34m'my_model.h5'\u001b[0m\u001b[0;34m)\u001b[0m\u001b[0;34m\u001b[0m\u001b[0;34m\u001b[0m\u001b[0m\n\u001b[1;32m      5\u001b[0m \u001b[0;31m# mode1 = model2\u001b[0m\u001b[0;34m\u001b[0m\u001b[0;34m\u001b[0m\u001b[0;34m\u001b[0m\u001b[0m\n",
            "\u001b[0;32m/usr/local/lib/python3.7/dist-packages/keras/utils/traceback_utils.py\u001b[0m in \u001b[0;36merror_handler\u001b[0;34m(*args, **kwargs)\u001b[0m\n\u001b[1;32m     65\u001b[0m     \u001b[0;32mexcept\u001b[0m \u001b[0mException\u001b[0m \u001b[0;32mas\u001b[0m \u001b[0me\u001b[0m\u001b[0;34m:\u001b[0m  \u001b[0;31m# pylint: disable=broad-except\u001b[0m\u001b[0;34m\u001b[0m\u001b[0;34m\u001b[0m\u001b[0m\n\u001b[1;32m     66\u001b[0m       \u001b[0mfiltered_tb\u001b[0m \u001b[0;34m=\u001b[0m \u001b[0m_process_traceback_frames\u001b[0m\u001b[0;34m(\u001b[0m\u001b[0me\u001b[0m\u001b[0;34m.\u001b[0m\u001b[0m__traceback__\u001b[0m\u001b[0;34m)\u001b[0m\u001b[0;34m\u001b[0m\u001b[0;34m\u001b[0m\u001b[0m\n\u001b[0;32m---> 67\u001b[0;31m       \u001b[0;32mraise\u001b[0m \u001b[0me\u001b[0m\u001b[0;34m.\u001b[0m\u001b[0mwith_traceback\u001b[0m\u001b[0;34m(\u001b[0m\u001b[0mfiltered_tb\u001b[0m\u001b[0;34m)\u001b[0m \u001b[0;32mfrom\u001b[0m \u001b[0;32mNone\u001b[0m\u001b[0;34m\u001b[0m\u001b[0;34m\u001b[0m\u001b[0m\n\u001b[0m\u001b[1;32m     68\u001b[0m     \u001b[0;32mfinally\u001b[0m\u001b[0;34m:\u001b[0m\u001b[0;34m\u001b[0m\u001b[0;34m\u001b[0m\u001b[0m\n\u001b[1;32m     69\u001b[0m       \u001b[0;32mdel\u001b[0m \u001b[0mfiltered_tb\u001b[0m\u001b[0;34m\u001b[0m\u001b[0;34m\u001b[0m\u001b[0m\n",
            "\u001b[0;32m/usr/local/lib/python3.7/dist-packages/keras/saving/save.py\u001b[0m in \u001b[0;36msave_model\u001b[0;34m(model, filepath, overwrite, include_optimizer, save_format, signatures, options, save_traces)\u001b[0m\n\u001b[1;32m    141\u001b[0m         not isinstance(model, sequential.Sequential)):\n\u001b[1;32m    142\u001b[0m       raise NotImplementedError(\n\u001b[0;32m--> 143\u001b[0;31m           \u001b[0;34m'Saving the model to HDF5 format requires the model to be a '\u001b[0m\u001b[0;34m\u001b[0m\u001b[0;34m\u001b[0m\u001b[0m\n\u001b[0m\u001b[1;32m    144\u001b[0m           \u001b[0;34m'Functional model or a Sequential model. It does not work for '\u001b[0m\u001b[0;34m\u001b[0m\u001b[0;34m\u001b[0m\u001b[0m\n\u001b[1;32m    145\u001b[0m           \u001b[0;34m'subclassed models, because such models are defined via the body of '\u001b[0m\u001b[0;34m\u001b[0m\u001b[0;34m\u001b[0m\u001b[0m\n",
            "\u001b[0;31mNotImplementedError\u001b[0m: Saving the model to HDF5 format requires the model to be a Functional model or a Sequential model. It does not work for subclassed models, because such models are defined via the body of a Python method, which isn't safely serializable. Consider saving to the Tensorflow SavedModel format (by setting save_format=\"tf\") or using `save_weights`."
          ]
        }
      ]
    },
    {
      "cell_type": "code",
      "metadata": {
        "id": "hTywimYTntNB"
      },
      "source": [
        "# 2. save and load weights only\n",
        "model.save_weights('my_model_weights.h5')\n",
        "\n",
        "# Rebuild model before load weights !\n",
        "model2 = build_model()\n",
        "model2.load_weights('my_model_weights.h5')\n",
        "\n",
        "# model = model2"
      ],
      "execution_count": null,
      "outputs": []
    },
    {
      "cell_type": "markdown",
      "source": [
        "#### Callbacks"
      ],
      "metadata": {
        "id": "QtUp9_ex2KOV"
      }
    },
    {
      "cell_type": "code",
      "source": [
        "# https://www.tensorflow.org/api_docs/python/tf/keras/callbacks/ModelCheckpoint\n",
        "\n",
        "model.fit(callbacks=[]\n",
        "          )"
      ],
      "metadata": {
        "id": "vPsNKz4V2Noa"
      },
      "execution_count": null,
      "outputs": []
    },
    {
      "cell_type": "markdown",
      "source": [
        "#### Tensorflow Addons"
      ],
      "metadata": {
        "id": "T8WVtbDD3hnw"
      }
    },
    {
      "cell_type": "code",
      "source": [
        "!pip install tensorflow-addons"
      ],
      "metadata": {
        "id": "oCiLvwQb3jJZ"
      },
      "execution_count": null,
      "outputs": []
    },
    {
      "cell_type": "code",
      "source": [
        "import tensorflow_addons as tfa"
      ],
      "metadata": {
        "id": "96M--brY3jxX"
      },
      "execution_count": null,
      "outputs": []
    },
    {
      "cell_type": "code",
      "source": [
        "# (None, 100, 100, 16)\n",
        "# (batch_size, H, W, C) -> 4D\n",
        "# (batch_size, HxW, C) -> 3D\n",
        "# (N, HxW, C)"
      ],
      "metadata": {
        "id": "W1A5xchN3oNH"
      },
      "execution_count": null,
      "outputs": []
    },
    {
      "cell_type": "code",
      "source": [
        "# Conv, BN, Activation\n",
        "class ConvBN(layers.Layer):\n",
        "    def __init__(self, filters, kernel_size):\n",
        "        super().__init__()\n",
        "        self.conv = layers.Conv2D(filters, kernel_size)\n",
        "        self.normalization = layers.BatchNormalization()\n",
        "        self.act = layers.LeakyReLU()\n",
        "\n",
        "    def call(self, x):\n",
        "        x = self.conv(x)\n",
        "        x = self.normalization(x)\n",
        "        return self.act(x)\n",
        "\n",
        "layer = ConvBN(32, 5)    "
      ],
      "metadata": {
        "id": "FxCjebXjUoPL"
      },
      "execution_count": null,
      "outputs": []
    },
    {
      "cell_type": "code",
      "source": [
        "outputs = layer(imgs)"
      ],
      "metadata": {
        "id": "25353DITVbYH"
      },
      "execution_count": null,
      "outputs": []
    },
    {
      "cell_type": "code",
      "source": [
        "outputs.shape"
      ],
      "metadata": {
        "id": "2NiOLhIoVeyH"
      },
      "execution_count": null,
      "outputs": []
    },
    {
      "cell_type": "code",
      "source": [
        "import tensorflow as tf\n",
        "\n",
        "class MyModel2(tf.keras.models.Model):\n",
        "    def __init__(self):\n",
        "        super().__init__()\n",
        "        self.encoder = models.Sequential([\n",
        "            ConvBN(63, 3),\n",
        "            ConvBN(63, 3),\n",
        "            layers.MaxPool2D(2),\n",
        "        ])\n",
        "        self.flatten = layers.GlobalAveragePooling2D()\n",
        "        self.classifier = models.Sequential([\n",
        "            layers.Dense(3, activation='softmax')               \n",
        "        ])\n",
        "\n",
        "    def call(self, x):\n",
        "        print(\"Start call\")\n",
        "        x = self.encoder(x)\n",
        "        x = self.flatten(x)\n",
        "        x = self.classifier(x)\n",
        "        return x\n",
        "\n",
        "    def features(self, x):\n",
        "        x = self.encoder(x)\n",
        "        x = self.flatten(x)\n",
        "        return x"
      ],
      "metadata": {
        "id": "xqR2va7TVgJE"
      },
      "execution_count": null,
      "outputs": []
    },
    {
      "cell_type": "code",
      "source": [
        "model = MyModel2()"
      ],
      "metadata": {
        "id": "mK-kl40xVxpW"
      },
      "execution_count": null,
      "outputs": []
    },
    {
      "cell_type": "code",
      "source": [
        "imgs = np.random.normal(0, 1, (100, 128, 128, 1))\n",
        "\n",
        "outputs = model(imgs)"
      ],
      "metadata": {
        "id": "8sQjOUjvV2gZ"
      },
      "execution_count": null,
      "outputs": []
    },
    {
      "cell_type": "code",
      "source": [
        "outputs.shape"
      ],
      "metadata": {
        "id": "sQLjYRdkV4mq"
      },
      "execution_count": null,
      "outputs": []
    },
    {
      "cell_type": "code",
      "source": [],
      "metadata": {
        "id": "iDxH5L-IV6Wm"
      },
      "execution_count": null,
      "outputs": []
    }
  ]
}